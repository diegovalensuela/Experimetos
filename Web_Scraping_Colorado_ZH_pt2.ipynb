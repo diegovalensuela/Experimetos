{
  "nbformat": 4,
  "nbformat_minor": 0,
  "metadata": {
    "colab": {
      "name": "Web Scraping - Colorado ZH pt2",
      "provenance": [],
      "collapsed_sections": [],
      "authorship_tag": "ABX9TyPw+D4KpvWv5ZZ2hSQRjr/E",
      "include_colab_link": true
    },
    "kernelspec": {
      "name": "python3",
      "display_name": "Python 3"
    }
  },
  "cells": [
    {
      "cell_type": "markdown",
      "metadata": {
        "id": "view-in-github",
        "colab_type": "text"
      },
      "source": [
        "<a href=\"https://colab.research.google.com/github/diegovalensuela/Experimetos/blob/master/Web_Scraping_Colorado_ZH_pt2.ipynb\" target=\"_parent\"><img src=\"https://colab.research.google.com/assets/colab-badge.svg\" alt=\"Open In Colab\"/></a>"
      ]
    },
    {
      "cell_type": "markdown",
      "metadata": {
        "id": "R2Ocv7RR-hwm",
        "colab_type": "text"
      },
      "source": [
        "# `Extraindo os titulos de posts sobre o inter em \"Colorado ZH\"`"
      ]
    },
    {
      "cell_type": "code",
      "metadata": {
        "id": "VGBNvq1ryq1i",
        "colab_type": "code",
        "colab": {}
      },
      "source": [
        "# importanto bibliotecas\n",
        "import requests\n",
        "from bs4 import BeautifulSoup \n",
        "import pandas as pd\n",
        "import matplotlib.pyplot as plt"
      ],
      "execution_count": 0,
      "outputs": []
    },
    {
      "cell_type": "code",
      "metadata": {
        "id": "aT7uJySFyu-0",
        "colab_type": "code",
        "colab": {}
      },
      "source": [
        "# guardando a url em uma variável\n",
        "url = 'https://gauchazh.clicrbs.com.br/esportes/inter/ultimas-noticias/'"
      ],
      "execution_count": 0,
      "outputs": []
    },
    {
      "cell_type": "code",
      "metadata": {
        "id": "Zdttdq1dy7wO",
        "colab_type": "code",
        "colab": {}
      },
      "source": [
        "# fazendo uma requisição do tipo get na página e verificando o que retorna\n",
        "req = requests.get(url)\n",
        "print(req.content)"
      ],
      "execution_count": 0,
      "outputs": []
    },
    {
      "cell_type": "markdown",
      "metadata": {
        "id": "Dbbvws0w7JPU",
        "colab_type": "text"
      },
      "source": [
        "#### Não vou exibir todo o código fonte aqui, no notebook pt1 ocupou muito espaço."
      ]
    },
    {
      "cell_type": "code",
      "metadata": {
        "id": "N2anxyw705Mf",
        "colab_type": "code",
        "outputId": "704932a5-bfa4-4129-897a-1da5cf4e61eb",
        "colab": {
          "base_uri": "https://localhost:8080/",
          "height": 55
        }
      },
      "source": [
        "# fazendo uma busca no html utilizando o Soup para buscar as noticias\n",
        "soup = BeautifulSoup(req.content, 'html.parser')\n",
        "lista_noticias = soup.find_all('div', class_=\"timeline\")\n",
        "print(lista_noticias)"
      ],
      "execution_count": 35,
      "outputs": [
        {
          "output_type": "stream",
          "text": [
            "[<div class=\"timeline\"><ul><div class=\"card card-article article photo\" id=\"card-5ee247b766562eeb4b0005da\"><time class=\"date-from-now\" datetime=\"1591887792\">há 2 min</time><a class=\"\" href=\"/esportes/inter/noticia/2020/06/criado-no-inter-alisson-conversa-e-da-dicas-aos-goleiros-da-base-do-clube-ckbaw5cpb005u015n4lk5wazh.html\"><div class=\"article-calls\"><h4 class=\"m-deck\"><span>O bom filho...</span></h4><h2 class=\"m-headline\">Criado no Inter, Alisson conversa e dá dicas aos goleiros da base do clube</h2><h3 class=\"support-text\">Formado nas categorias de base do Inter, onde jogou desde os nove anos de idade, Alisson Becker é considerado hoje o melhor goleiro do mundo. Defendendo o Liverpool-ING, o atleta conquistou a Liga dos...</h3><div class=\"info-wrapper\"><strong class=\"author\">GaúchaZH</strong> - <time datetime=\"1591887792000\">11/06/2020 - 12h3min</time></div></div><div class=\"img-container\"><div class=\"img-wrapper\"><picture class=\"picture-placeholder blink\"><source media=\"(min-width: 768px)\" srcset=\"data:image/svg+xml;base64,Cjxzdmcgd2lkdGg9IjE3MHB4IiBoZWlnaHQ9IjExM3B4IiB2aWV3Qm94PSIwIDAgMTcwIDExMyIgeG1sbnM9Imh0dHA6Ly93d3cudzMub3JnLzIwMDAvc3ZnIiB2ZXJzaW9uPSIxLjEiPgogIDxyZWN0IHg9IjAiIHk9IjAiIHdpZHRoPSIxNzAiIGhlaWdodD0iMTEzIiBmaWxsPSIjZjFmMWYxIiBzdHJva2Utd2lkdGg9IjAiICAvPgo8L3N2Zz4=\" title=\"Ricardo Duarte/Divulgação,Inter\"/><source media=\"\" srcset=\"data:image/svg+xml;base64,Cjxzdmcgd2lkdGg9IjkwcHgiIGhlaWdodD0iNjBweCIgdmlld0JveD0iMCAwIDkwIDYwIiB4bWxucz0iaHR0cDovL3d3dy53My5vcmcvMjAwMC9zdmciIHZlcnNpb249IjEuMSI+CiAgPHJlY3QgeD0iMCIgeT0iMCIgd2lkdGg9IjkwIiBoZWlnaHQ9IjYwIiBmaWxsPSIjZjFmMWYxIiBzdHJva2Utd2lkdGg9IjAiICAvPgo8L3N2Zz4=\" title=\"Ricardo Duarte/Divulgação,Inter\"/><img alt=\"Alisson; Inter; Viamão; treino; futebol\" src=\"data:image/svg+xml;base64,Cjxzdmcgd2lkdGg9IjkwcHgiIGhlaWdodD0iNjBweCIgdmlld0JveD0iMCAwIDkwIDYwIiB4bWxucz0iaHR0cDovL3d3dy53My5vcmcvMjAwMC9zdmciIHZlcnNpb249IjEuMSI+CiAgPHJlY3QgeD0iMCIgeT0iMCIgd2lkdGg9IjkwIiBoZWlnaHQ9IjYwIiBmaWxsPSIjZjFmMWYxIiBzdHJva2Utd2lkdGg9IjAiICAvPgo8L3N2Zz4=\" title=\"Ricardo Duarte/Divulgação,Inter\"/></picture></div></div></a><ul class=\"tag-list\"><li><a href=\"/ultimas-noticias/tag/futebol/\">futebol</a></li><li><a href=\"/ultimas-noticias/tag/inter/\">inter</a></li><li><a href=\"/ultimas-noticias/tag/alisson/\">alisson</a></li><li><span class=\"tag-more\" data-for=\"tag-more-5ee247b766562eeb4b0005da\" data-tip=\"React-tooltip\">+<!-- -->1</span><div class=\"__react_component_tooltip place-top type-dark \" data-id=\"tooltip\" id=\"tag-more-5ee247b766562eeb4b0005da\"><ul class=\"tag-more-list\"><li><a href=\"/ultimas-noticias/tag/liverpool/\">liverpool</a></li></ul></div></li></ul></div><div class=\"card card-article column photo\" id=\"card-5ee20ee2069caf899c6899b4\"><time class=\"date-from-now\" datetime=\"1591873243\">há 4 horas</time><a class=\"\" href=\"/colunistas/pedro-ernesto-denardin/noticia/2020/06/como-sera-o-retorno-dos-veteranos-de-gremio-e-inter-ckb9ywc8q00m6015nkyls27qt.html\"><div class=\"article-calls\"><h4 class=\"m-deck\"><span>Projeção</span></h4><h2 class=\"m-headline\">Como será o retorno dos veteranos de Grêmio e Inter</h2><h3 class=\"support-text\">Como voltarão os jogadores veteranos se o Gauchão recomeçar em 19 de julho, com quatro meses e quatro dias de paralisação do futebol? Paolo Guerrero deu a melhor resposta já vista. Punido por doping, ...</h3><div class=\"info-wrapper\"><strong class=\"author\">Pedro Ernesto Denardin</strong> - <time datetime=\"1591873243000\">11/06/2020 - 8h0min</time></div></div><div class=\"img-container\"><div class=\"img-wrapper\"><picture class=\"picture-placeholder blink\"><source media=\"(min-width: 768px)\" srcset=\"data:image/svg+xml;base64,Cjxzdmcgd2lkdGg9IjE3MHB4IiBoZWlnaHQ9IjExM3B4IiB2aWV3Qm94PSIwIDAgMTcwIDExMyIgeG1sbnM9Imh0dHA6Ly93d3cudzMub3JnLzIwMDAvc3ZnIiB2ZXJzaW9uPSIxLjEiPgogIDxyZWN0IHg9IjAiIHk9IjAiIHdpZHRoPSIxNzAiIGhlaWdodD0iMTEzIiBmaWxsPSIjZjFmMWYxIiBzdHJva2Utd2lkdGg9IjAiICAvPgo8L3N2Zz4=\" title=\"André Ávila/Agencia RBS\"/><source media=\"\" srcset=\"data:image/svg+xml;base64,Cjxzdmcgd2lkdGg9IjkwcHgiIGhlaWdodD0iNjBweCIgdmlld0JveD0iMCAwIDkwIDYwIiB4bWxucz0iaHR0cDovL3d3dy53My5vcmcvMjAwMC9zdmciIHZlcnNpb249IjEuMSI+CiAgPHJlY3QgeD0iMCIgeT0iMCIgd2lkdGg9IjkwIiBoZWlnaHQ9IjYwIiBmaWxsPSIjZjFmMWYxIiBzdHJva2Utd2lkdGg9IjAiICAvPgo8L3N2Zz4=\" title=\"André Ávila/Agencia RBS\"/><img alt=\" PORTO ALEGRE, RS, BRASIL,15/02/2020- Gre-Nal 423, válido pela semifinal do primeiro turno do Gauchão. (FOTOGRAFO: ANDRÉ ÁVILA / AGENCIA RBS)\" src=\"data:image/svg+xml;base64,Cjxzdmcgd2lkdGg9IjkwcHgiIGhlaWdodD0iNjBweCIgdmlld0JveD0iMCAwIDkwIDYwIiB4bWxucz0iaHR0cDovL3d3dy53My5vcmcvMjAwMC9zdmciIHZlcnNpb249IjEuMSI+CiAgPHJlY3QgeD0iMCIgeT0iMCIgd2lkdGg9IjkwIiBoZWlnaHQ9IjYwIiBmaWxsPSIjZjFmMWYxIiBzdHJva2Utd2lkdGg9IjAiICAvPgo8L3N2Zz4=\" title=\"André Ávila/Agencia RBS\"/></picture></div></div></a><ul class=\"tag-list\"><li><a href=\"/ultimas-noticias/tag/futebol/\">futebol</a></li><li><a href=\"/ultimas-noticias/tag/gremio/\">grêmio</a></li><li><a href=\"/ultimas-noticias/tag/inter/\">inter</a></li><li><span class=\"tag-more\" data-for=\"tag-more-5ee20ee2069caf899c6899b4\" data-tip=\"React-tooltip\">+<!-- -->1</span><div class=\"__react_component_tooltip place-top type-dark \" data-id=\"tooltip\" id=\"tag-more-5ee20ee2069caf899c6899b4\"><ul class=\"tag-more-list\"><li><a href=\"/ultimas-noticias/tag/coronavirus/\">coronavírus</a></li></ul></div></li></ul></div><div class=\"card card-article article photo\" id=\"card-5ee20ed806b827f865b9f796\"><time class=\"date-from-now\" datetime=\"1591873233\">há 4 horas</time><a class=\"\" href=\"/esportes/inter/noticia/2020/06/lele-bortholacci-a-importancia-dos-cuidados-com-a-saude-mental-dos-atletas-ckb9uuiuo00ih015n3unla7ge.html\"><div class=\"article-calls\"><h4 class=\"m-deck\"><span>Paixão Colorada</span></h4><h2 class=\"m-headline\">Lelê Bortholacci: a importância dos cuidados com a saúde mental dos atletas </h2><h3 class=\"support-text\">Depois de escrever sobre o lamentável episódio do Fabrício na coluna de quarta-feira (10), lembrei imediatamente de uma frase infeliz do ex-presidente Vitório Piffero - que, aliás, tem uma capacidade ...</h3><div class=\"info-wrapper\"><strong class=\"author\">Lelê Bortholacci</strong> - <time datetime=\"1591873233000\">11/06/2020 - 8h0min</time></div></div><div class=\"img-container\"><div class=\"img-wrapper\"><picture class=\"picture-placeholder blink\"><source media=\"(min-width: 768px)\" srcset=\"data:image/svg+xml;base64,Cjxzdmcgd2lkdGg9IjE3MHB4IiBoZWlnaHQ9IjExM3B4IiB2aWV3Qm94PSIwIDAgMTcwIDExMyIgeG1sbnM9Imh0dHA6Ly93d3cudzMub3JnLzIwMDAvc3ZnIiB2ZXJzaW9uPSIxLjEiPgogIDxyZWN0IHg9IjAiIHk9IjAiIHdpZHRoPSIxNzAiIGhlaWdodD0iMTEzIiBmaWxsPSIjZjFmMWYxIiBzdHJva2Utd2lkdGg9IjAiICAvPgo8L3N2Zz4=\" title=\"Ricardo Wolffenbüttel/Agencia RBS\"/><source media=\"\" srcset=\"data:image/svg+xml;base64,Cjxzdmcgd2lkdGg9IjkwcHgiIGhlaWdodD0iNjBweCIgdmlld0JveD0iMCAwIDkwIDYwIiB4bWxucz0iaHR0cDovL3d3dy53My5vcmcvMjAwMC9zdmciIHZlcnNpb249IjEuMSI+CiAgPHJlY3QgeD0iMCIgeT0iMCIgd2lkdGg9IjkwIiBoZWlnaHQ9IjYwIiBmaWxsPSIjZjFmMWYxIiBzdHJva2Utd2lkdGg9IjAiICAvPgo8L3N2Zz4=\" title=\"Ricardo Wolffenbüttel/Agencia RBS\"/><img alt=\"*** Bola-RicardoW ***Bola no fundo da rede, gol . Produção para a abertura do Gauchão 2008&lt;!-- NICAID(67381) --&gt;\" src=\"data:image/svg+xml;base64,Cjxzdmcgd2lkdGg9IjkwcHgiIGhlaWdodD0iNjBweCIgdmlld0JveD0iMCAwIDkwIDYwIiB4bWxucz0iaHR0cDovL3d3dy53My5vcmcvMjAwMC9zdmciIHZlcnNpb249IjEuMSI+CiAgPHJlY3QgeD0iMCIgeT0iMCIgd2lkdGg9IjkwIiBoZWlnaHQ9IjYwIiBmaWxsPSIjZjFmMWYxIiBzdHJva2Utd2lkdGg9IjAiICAvPgo8L3N2Zz4=\" title=\"Ricardo Wolffenbüttel/Agencia RBS\"/></picture></div></div></a></div><div class=\"card card-article column photo\" id=\"card-5ee200d9069caf899c6899a6\"><time class=\"date-from-now\" datetime=\"1591869650\">há 5 horas</time><a class=\"\" href=\"/colunistas/guerrinha/noticia/2020/06/inter-ganha-alivio-financeiro-com-resposta-dos-socios-ckba1w88f00nd015nunxv6x3a.html\"><div class=\"article-calls\"><h4 class=\"m-deck\"><span>Ajuda</span></h4><h2 class=\"m-headline\">Inter ganha alívio financeiro com resposta dos sócios</h2><h3 class=\"support-text\">Tudo ajuda nesta hora.</h3><div class=\"info-wrapper\"><strong class=\"author\">Adroaldo Guerra Filho</strong> - <time datetime=\"1591869650000\">11/06/2020 - 7h0min</time></div></div><div class=\"img-container\"><div class=\"img-wrapper\"><picture class=\"picture-placeholder blink\"><source media=\"(min-width: 768px)\" srcset=\"data:image/svg+xml;base64,Cjxzdmcgd2lkdGg9IjE3MHB4IiBoZWlnaHQ9IjExM3B4IiB2aWV3Qm94PSIwIDAgMTcwIDExMyIgeG1sbnM9Imh0dHA6Ly93d3cudzMub3JnLzIwMDAvc3ZnIiB2ZXJzaW9uPSIxLjEiPgogIDxyZWN0IHg9IjAiIHk9IjAiIHdpZHRoPSIxNzAiIGhlaWdodD0iMTEzIiBmaWxsPSIjZjFmMWYxIiBzdHJva2Utd2lkdGg9IjAiICAvPgo8L3N2Zz4=\" title=\"Isadora Neumann/Agencia RBS)\"/><source media=\"\" srcset=\"data:image/svg+xml;base64,Cjxzdmcgd2lkdGg9IjkwcHgiIGhlaWdodD0iNjBweCIgdmlld0JveD0iMCAwIDkwIDYwIiB4bWxucz0iaHR0cDovL3d3dy53My5vcmcvMjAwMC9zdmciIHZlcnNpb249IjEuMSI+CiAgPHJlY3QgeD0iMCIgeT0iMCIgd2lkdGg9IjkwIiBoZWlnaHQ9IjYwIiBmaWxsPSIjZjFmMWYxIiBzdHJva2Utd2lkdGg9IjAiICAvPgo8L3N2Zz4=\" title=\"Isadora Neumann/Agencia RBS)\"/><img alt=\" PORTO ALEGRE, RS, BRASIL - Coletiva de Marcelo Medeiros no CT Parque Gigante. (Foto: Isadora Neumann/Agencia RBS)&lt;!-- NICAID(14341486) --&gt;\" src=\"data:image/svg+xml;base64,Cjxzdmcgd2lkdGg9IjkwcHgiIGhlaWdodD0iNjBweCIgdmlld0JveD0iMCAwIDkwIDYwIiB4bWxucz0iaHR0cDovL3d3dy53My5vcmcvMjAwMC9zdmciIHZlcnNpb249IjEuMSI+CiAgPHJlY3QgeD0iMCIgeT0iMCIgd2lkdGg9IjkwIiBoZWlnaHQ9IjYwIiBmaWxsPSIjZjFmMWYxIiBzdHJva2Utd2lkdGg9IjAiICAvPgo8L3N2Zz4=\" title=\"Isadora Neumann/Agencia RBS)\"/></picture></div></div></a><ul class=\"tag-list\"><li><a href=\"/ultimas-noticias/tag/inter/\">inter</a></li><li><a href=\"/ultimas-noticias/tag/futebol/\">futebol</a></li><li><a href=\"/ultimas-noticias/tag/thiago-galhardo/\">thiago galhardo</a></li></ul></div><div class=\"card card-article column photo\" id=\"card-5ee200c7069caf899c6899a4\"><time class=\"date-from-now\" datetime=\"1591869633\">há 5 horas</time><a class=\"\" href=\"/colunistas/pedro-ernesto-denardin/noticia/2020/06/a-emocao-de-d-alessandro-e-os-sinais-que-o-craque-deu-sobre-seu-futuro-ckb9z05yz00mb015n436638tn.html\"><div class=\"article-calls\"><h4 class=\"m-deck\"><span>No Beira-Rio</span></h4><h2 class=\"m-headline\">A emoção de D'Alessandro e os sinais que o craque deu sobre seu futuro</h2><h3 class=\"support-text\">D’Alessandro quase foi às lágrimas na entrevista coletiva virtual que foi realizada no Beira-Rio, na quarta-feira (10). Perguntado sobre sua permanência no Inter e a possibilidade de renovar contrato ...</h3><div class=\"info-wrapper\"><strong class=\"author\">Pedro Ernesto Denardin</strong> - <time datetime=\"1591869633000\">11/06/2020 - 7h0min</time></div></div><div class=\"img-container\"><div class=\"img-wrapper\"><picture class=\"picture-placeholder blink\"><source media=\"(min-width: 768px)\" srcset=\"data:image/svg+xml;base64,Cjxzdmcgd2lkdGg9IjE3MHB4IiBoZWlnaHQ9IjExM3B4IiB2aWV3Qm94PSIwIDAgMTcwIDExMyIgeG1sbnM9Imh0dHA6Ly93d3cudzMub3JnLzIwMDAvc3ZnIiB2ZXJzaW9uPSIxLjEiPgogIDxyZWN0IHg9IjAiIHk9IjAiIHdpZHRoPSIxNzAiIGhlaWdodD0iMTEzIiBmaWxsPSIjZjFmMWYxIiBzdHJva2Utd2lkdGg9IjAiICAvPgo8L3N2Zz4=\" title=\"Ricardo Duarte/Inter\"/><source media=\"\" srcset=\"data:image/svg+xml;base64,Cjxzdmcgd2lkdGg9IjkwcHgiIGhlaWdodD0iNjBweCIgdmlld0JveD0iMCAwIDkwIDYwIiB4bWxucz0iaHR0cDovL3d3dy53My5vcmcvMjAwMC9zdmciIHZlcnNpb249IjEuMSI+CiAgPHJlY3QgeD0iMCIgeT0iMCIgd2lkdGg9IjkwIiBoZWlnaHQ9IjYwIiBmaWxsPSIjZjFmMWYxIiBzdHJva2Utd2lkdGg9IjAiICAvPgo8L3N2Zz4=\" title=\"Ricardo Duarte/Inter\"/><img alt=\" 2020-03-09 Treino do Internacional no CT Parque Gigante. Jogador DAlessandro. Foto: Ricardo Duarte/Internacional&lt;!-- NICAID(14449344) --&gt;\" src=\"data:image/svg+xml;base64,Cjxzdmcgd2lkdGg9IjkwcHgiIGhlaWdodD0iNjBweCIgdmlld0JveD0iMCAwIDkwIDYwIiB4bWxucz0iaHR0cDovL3d3dy53My5vcmcvMjAwMC9zdmciIHZlcnNpb249IjEuMSI+CiAgPHJlY3QgeD0iMCIgeT0iMCIgd2lkdGg9IjkwIiBoZWlnaHQ9IjYwIiBmaWxsPSIjZjFmMWYxIiBzdHJva2Utd2lkdGg9IjAiICAvPgo8L3N2Zz4=\" title=\"Ricardo Duarte/Inter\"/></picture></div></div></a><ul class=\"tag-list\"><li><a href=\"/ultimas-noticias/tag/futebol/\">futebol</a></li><li><a href=\"/ultimas-noticias/tag/inter/\">inter</a></li></ul></div><div class=\"card card-article column photo\" id=\"card-5ee200ab069caf899c6899a1\"><time class=\"date-from-now\" datetime=\"1591869603\">há 5 horas</time><a class=\"\" href=\"/colunistas/eduardo-gabardo/noticia/2020/06/a-posicao-da-conmebol-sobre-a-retomada-da-libertadores-ckb9yumeo00m4015npdy0huj9.html\"><div class=\"article-calls\"><h4 class=\"m-deck\"><span>Data indefinida</span></h4><h2 class=\"m-headline\">A posição da Conmebol sobre a retomada da Libertadores</h2><h3 class=\"support-text\">Nos últimos dias circulou uma informação de que a Conmebol está trabalhando para retomar a Libertadores durante o mês de setembro. Isto ocorreu após uma entrevista de Gonzalo Belloso, diretor de desen...</h3><div class=\"info-wrapper\"><strong class=\"author\">Eduardo Gabardo</strong> - <time datetime=\"1591869603000\">11/06/2020 - 7h0min</time></div></div><div class=\"img-container\"><div class=\"img-wrapper\"><picture class=\"picture-placeholder blink\"><source media=\"(min-width: 768px)\" srcset=\"data:image/svg+xml;base64,Cjxzdmcgd2lkdGg9IjE3MHB4IiBoZWlnaHQ9IjExM3B4IiB2aWV3Qm94PSIwIDAgMTcwIDExMyIgeG1sbnM9Imh0dHA6Ly93d3cudzMub3JnLzIwMDAvc3ZnIiB2ZXJzaW9uPSIxLjEiPgogIDxyZWN0IHg9IjAiIHk9IjAiIHdpZHRoPSIxNzAiIGhlaWdodD0iMTEzIiBmaWxsPSIjZjFmMWYxIiBzdHJva2Utd2lkdGg9IjAiICAvPgo8L3N2Zz4=\" title=\"Mateus Bruxel/Agencia RBS\"/><source media=\"\" srcset=\"data:image/svg+xml;base64,Cjxzdmcgd2lkdGg9IjkwcHgiIGhlaWdodD0iNjBweCIgdmlld0JveD0iMCAwIDkwIDYwIiB4bWxucz0iaHR0cDovL3d3dy53My5vcmcvMjAwMC9zdmciIHZlcnNpb249IjEuMSI+CiAgPHJlY3QgeD0iMCIgeT0iMCIgd2lkdGg9IjkwIiBoZWlnaHQ9IjYwIiBmaWxsPSIjZjFmMWYxIiBzdHJva2Utd2lkdGg9IjAiICAvPgo8L3N2Zz4=\" title=\"Mateus Bruxel/Agencia RBS\"/><img alt=\" PORTO ALEGRE, RS, BRASIL - Grêmio e Inter jogam na Arena, pelo Grupo E da Libertadores da América 2020. (Foto: Mateus Bruxel/Agencia RBS)&lt;!-- NICAID(14449595) --&gt;\" src=\"data:image/svg+xml;base64,Cjxzdmcgd2lkdGg9IjkwcHgiIGhlaWdodD0iNjBweCIgdmlld0JveD0iMCAwIDkwIDYwIiB4bWxucz0iaHR0cDovL3d3dy53My5vcmcvMjAwMC9zdmciIHZlcnNpb249IjEuMSI+CiAgPHJlY3QgeD0iMCIgeT0iMCIgd2lkdGg9IjkwIiBoZWlnaHQ9IjYwIiBmaWxsPSIjZjFmMWYxIiBzdHJva2Utd2lkdGg9IjAiICAvPgo8L3N2Zz4=\" title=\"Mateus Bruxel/Agencia RBS\"/></picture></div></div></a><ul class=\"tag-list\"><li><a href=\"/ultimas-noticias/tag/gremio/\">grêmio</a></li><li><a href=\"/ultimas-noticias/tag/inter/\">inter</a></li><li><a href=\"/ultimas-noticias/tag/futebol/\">futebol</a></li></ul></div><div class=\"card card-article column photo\" id=\"card-5ee1f2a8e5b8975966b8810a\"><time class=\"date-from-now\" datetime=\"1591866017\">há 6 horas</time><a class=\"\" href=\"/colunistas/diogo-olivier/noticia/2020/06/o-novo-coracao-do-beira-rio-ckb9ylfbb00ls015na8deh4tv.html\"><div class=\"article-calls\"><h4 class=\"m-deck\"><span>Para sócios</span></h4><h2 class=\"m-headline\">O novo coração do Beira-Rio</h2><h3 class=\"support-text\">Será mesmo um coração a imagem central do monumento a ser erguido no pátio do Complexo Beira-Rio ainda em 2020. A obra vai homenagear os sócios que ajudarem o clube durante a pandemia pagando até seis...</h3><div class=\"info-wrapper\"><strong class=\"author\">Diogo Olivier</strong> - <time datetime=\"1591866017000\">11/06/2020 - 6h0min</time></div></div><div class=\"img-container\"><div class=\"img-wrapper\"><picture class=\"picture-placeholder blink\"><source media=\"(min-width: 768px)\" srcset=\"data:image/svg+xml;base64,Cjxzdmcgd2lkdGg9IjE3MHB4IiBoZWlnaHQ9IjExM3B4IiB2aWV3Qm94PSIwIDAgMTcwIDExMyIgeG1sbnM9Imh0dHA6Ly93d3cudzMub3JnLzIwMDAvc3ZnIiB2ZXJzaW9uPSIxLjEiPgogIDxyZWN0IHg9IjAiIHk9IjAiIHdpZHRoPSIxNzAiIGhlaWdodD0iMTEzIiBmaWxsPSIjZjFmMWYxIiBzdHJva2Utd2lkdGg9IjAiICAvPgo8L3N2Zz4=\" title=\"Omar Freitas/Agencia RBS\"/><source media=\"\" srcset=\"data:image/svg+xml;base64,Cjxzdmcgd2lkdGg9IjkwcHgiIGhlaWdodD0iNjBweCIgdmlld0JveD0iMCAwIDkwIDYwIiB4bWxucz0iaHR0cDovL3d3dy53My5vcmcvMjAwMC9zdmciIHZlcnNpb249IjEuMSI+CiAgPHJlY3QgeD0iMCIgeT0iMCIgd2lkdGg9IjkwIiBoZWlnaHQ9IjYwIiBmaWxsPSIjZjFmMWYxIiBzdHJva2Utd2lkdGg9IjAiICAvPgo8L3N2Zz4=\" title=\"Omar Freitas/Agencia RBS\"/><img alt=\" PORTO ALEGRE, RS, BRASIL - 08.05.2016 : Imagem aérea - Estádio Beira-Rio - Internacional enfrenta o Juventude pela final do Campeonato Gaúcho 2016, no estádio Beira-Rio. (FOTO: OMAR FREITAS/AGÊNCIA RBS, Editoria Esportes)\" src=\"data:image/svg+xml;base64,Cjxzdmcgd2lkdGg9IjkwcHgiIGhlaWdodD0iNjBweCIgdmlld0JveD0iMCAwIDkwIDYwIiB4bWxucz0iaHR0cDovL3d3dy53My5vcmcvMjAwMC9zdmciIHZlcnNpb249IjEuMSI+CiAgPHJlY3QgeD0iMCIgeT0iMCIgd2lkdGg9IjkwIiBoZWlnaHQ9IjYwIiBmaWxsPSIjZjFmMWYxIiBzdHJva2Utd2lkdGg9IjAiICAvPgo8L3N2Zz4=\" title=\"Omar Freitas/Agencia RBS\"/></picture></div></div></a><ul class=\"tag-list\"><li><a href=\"/ultimas-noticias/tag/inter/\">inter</a></li><li><a href=\"/ultimas-noticias/tag/futebol/\">futebol</a></li><li><a href=\"/ultimas-noticias/tag/beira-rio/\">beira-rio</a></li><li><span class=\"tag-more\" data-for=\"tag-more-5ee1f2a8e5b8975966b8810a\" data-tip=\"React-tooltip\">+<!-- -->1</span><div class=\"__react_component_tooltip place-top type-dark \" data-id=\"tooltip\" id=\"tag-more-5ee1f2a8e5b8975966b8810a\"><ul class=\"tag-more-list\"><li><a href=\"/ultimas-noticias/tag/video/\">vídeo</a></li></ul></div></li></ul></div><div class=\"card card-article article photo\" id=\"card-5ee14c476a52ab7ee13e9b37\"><time class=\"date-from-now\" datetime=\"1591823424\">há 18 horas</time><a class=\"\" href=\"/esportes/inter/noticia/2020/06/d-alessandro-lembra-chegada-em-2008-como-momento-mais-especial-no-inter-so-pensava-em-fazer-o-melhor-ckb9tig4000gk015ny8upwi9l.html\"><div class=\"article-calls\"><h4 class=\"m-deck\"><span>Capitão</span></h4><h2 class=\"m-headline\">D'Alessandro lembra chegada em 2008 como momento mais especial no Inter: \"Só pensava em fazer o melhor\"</h2><h3 class=\"support-text\">O meio-campista D'Alessandro concedeu uma entrevista coletiva virtual após o treinamento da manhã desta quarta-feira (10), no CT Parque Gigante. Além de responder aos questionamentos dos jornalistas, ...</h3><div class=\"info-wrapper\"><strong class=\"author\">GaúchaZH</strong> - <time datetime=\"1591823424000\">10/06/2020 - 18h10min</time></div></div><div class=\"img-container\"><div class=\"img-wrapper\"><picture class=\"picture-placeholder blink\"><source media=\"(min-width: 768px)\" srcset=\"data:image/svg+xml;base64,Cjxzdmcgd2lkdGg9IjE3MHB4IiBoZWlnaHQ9IjExM3B4IiB2aWV3Qm94PSIwIDAgMTcwIDExMyIgeG1sbnM9Imh0dHA6Ly93d3cudzMub3JnLzIwMDAvc3ZnIiB2ZXJzaW9uPSIxLjEiPgogIDxyZWN0IHg9IjAiIHk9IjAiIHdpZHRoPSIxNzAiIGhlaWdodD0iMTEzIiBmaWxsPSIjZjFmMWYxIiBzdHJva2Utd2lkdGg9IjAiICAvPgo8L3N2Zz4=\" title=\"Ricardo Duarte/Inter\"/><source media=\"\" srcset=\"data:image/svg+xml;base64,Cjxzdmcgd2lkdGg9IjkwcHgiIGhlaWdodD0iNjBweCIgdmlld0JveD0iMCAwIDkwIDYwIiB4bWxucz0iaHR0cDovL3d3dy53My5vcmcvMjAwMC9zdmciIHZlcnNpb249IjEuMSI+CiAgPHJlY3QgeD0iMCIgeT0iMCIgd2lkdGg9IjkwIiBoZWlnaHQ9IjYwIiBmaWxsPSIjZjFmMWYxIiBzdHJva2Utd2lkdGg9IjAiICAvPgo8L3N2Zz4=\" title=\"Ricardo Duarte/Inter\"/><img alt=\"DAlessandro\" src=\"data:image/svg+xml;base64,Cjxzdmcgd2lkdGg9IjkwcHgiIGhlaWdodD0iNjBweCIgdmlld0JveD0iMCAwIDkwIDYwIiB4bWxucz0iaHR0cDovL3d3dy53My5vcmcvMjAwMC9zdmciIHZlcnNpb249IjEuMSI+CiAgPHJlY3QgeD0iMCIgeT0iMCIgd2lkdGg9IjkwIiBoZWlnaHQ9IjYwIiBmaWxsPSIjZjFmMWYxIiBzdHJva2Utd2lkdGg9IjAiICAvPgo8L3N2Zz4=\" title=\"Ricardo Duarte/Inter\"/></picture></div></div></a><ul class=\"tag-list\"><li><a href=\"/ultimas-noticias/tag/futebol/\">futebol</a></li><li><a href=\"/ultimas-noticias/tag/inter/\">inter</a></li><li><a href=\"/ultimas-noticias/tag/d-alessandro/\">d'alessandro</a></li></ul></div><div class=\"card card-article column photo\" id=\"card-5ee1291d32d964937f8f584c\"><time class=\"date-from-now\" datetime=\"1591814422\">há 20 horas</time><a class=\"\" href=\"/colunistas/eduardo-gabardo/noticia/2020/06/quem-e-o-poderoso-empresario-italiano-que-trabalha-para-colocar-bruno-fuchs-no-milan-ckb9ows8z00cw015n3rszuhnf.html\"><div class=\"article-calls\"><h4 class=\"m-deck\"><span>Atuando nos bastidores</span></h4><h2 class=\"m-headline\">Quem é o poderoso empresário italiano que trabalha para colocar Bruno Fuchs no Milan</h2><h3 class=\"support-text\">Nos últimos dias, o nome do zagueiro Bruno Fuchs foi especulado em alguns clubes europeus, entre eles o Milan, da Itália. Por enquanto, não existe nenhuma proposta oficial e o Inter não recebeu nenhum...</h3><div class=\"info-wrapper\"><strong class=\"author\">Eduardo Gabardo</strong> - <time datetime=\"1591814422000\">10/06/2020 - 15h40min</time></div></div><div class=\"img-container\"><div class=\"img-wrapper\"><picture class=\"picture-placeholder blink\"><source media=\"(min-width: 768px)\" srcset=\"data:image/svg+xml;base64,Cjxzdmcgd2lkdGg9IjE3MHB4IiBoZWlnaHQ9IjExM3B4IiB2aWV3Qm94PSIwIDAgMTcwIDExMyIgeG1sbnM9Imh0dHA6Ly93d3cudzMub3JnLzIwMDAvc3ZnIiB2ZXJzaW9uPSIxLjEiPgogIDxyZWN0IHg9IjAiIHk9IjAiIHdpZHRoPSIxNzAiIGhlaWdodD0iMTEzIiBmaWxsPSIjZjFmMWYxIiBzdHJva2Utd2lkdGg9IjAiICAvPgo8L3N2Zz4=\" title=\"Ricardo Duarte/Inter\"/><source media=\"\" srcset=\"data:image/svg+xml;base64,Cjxzdmcgd2lkdGg9IjkwcHgiIGhlaWdodD0iNjBweCIgdmlld0JveD0iMCAwIDkwIDYwIiB4bWxucz0iaHR0cDovL3d3dy53My5vcmcvMjAwMC9zdmciIHZlcnNpb249IjEuMSI+CiAgPHJlY3QgeD0iMCIgeT0iMCIgd2lkdGg9IjkwIiBoZWlnaHQ9IjYwIiBmaWxsPSIjZjFmMWYxIiBzdHJva2Utd2lkdGg9IjAiICAvPgo8L3N2Zz4=\" title=\"Ricardo Duarte/Inter\"/><img alt=\"bruno fuchs, inter\" src=\"data:image/svg+xml;base64,Cjxzdmcgd2lkdGg9IjkwcHgiIGhlaWdodD0iNjBweCIgdmlld0JveD0iMCAwIDkwIDYwIiB4bWxucz0iaHR0cDovL3d3dy53My5vcmcvMjAwMC9zdmciIHZlcnNpb249IjEuMSI+CiAgPHJlY3QgeD0iMCIgeT0iMCIgd2lkdGg9IjkwIiBoZWlnaHQ9IjYwIiBmaWxsPSIjZjFmMWYxIiBzdHJva2Utd2lkdGg9IjAiICAvPgo8L3N2Zz4=\" title=\"Ricardo Duarte/Inter\"/></picture></div></div></a><ul class=\"tag-list\"><li><a href=\"/ultimas-noticias/tag/inter/\">inter</a></li><li><a href=\"/ultimas-noticias/tag/bruno-fuchs/\">bruno fuchs</a></li><li><a href=\"/ultimas-noticias/tag/futebol/\">futebol</a></li><li><span class=\"tag-more\" data-for=\"tag-more-5ee1291d32d964937f8f584c\" data-tip=\"React-tooltip\">+<!-- -->1</span><div class=\"__react_component_tooltip place-top type-dark \" data-id=\"tooltip\" id=\"tag-more-5ee1291d32d964937f8f584c\"><ul class=\"tag-more-list\"><li><a href=\"/ultimas-noticias/tag/milan/\">milan</a></li></ul></div></li></ul></div><div class=\"card card-article article photo\" id=\"card-5ee119974931aaa2f536d2db\"><time class=\"date-from-now\" datetime=\"1591810449\">há 22 horas</time><a class=\"\" href=\"/esportes/inter/noticia/2020/06/inter-realiza-trabalhos-de-resistencia-e-exercicios-com-bola-no-ct-parque-gigante-ckb9m9bvp00an015n5lrujjz6.html\"><div class=\"article-calls\"><h4 class=\"m-deck\"><span>O trabalho continua</span></h4><h2 class=\"m-headline\">Inter realiza trabalhos de resistência e exercícios com bola no CT Parque Gigante</h2><h3 class=\"support-text\">Durante a manhã desta quarta-feira (10), os atletas do Inter  fizeram diversas atividades físicas e técnicas no gramado do CT Parque Gigante. A rotina de atividades segue sendo trabalhada de acordo co...</h3><div class=\"info-wrapper\"><strong class=\"author\">GaúchaZH</strong> - <time datetime=\"1591810449000\">10/06/2020 - 14h34min</time></div></div><div class=\"img-container\"><div class=\"img-wrapper\"><picture class=\"picture-placeholder blink\"><source media=\"(min-width: 768px)\" srcset=\"data:image/svg+xml;base64,Cjxzdmcgd2lkdGg9IjE3MHB4IiBoZWlnaHQ9IjExM3B4IiB2aWV3Qm94PSIwIDAgMTcwIDExMyIgeG1sbnM9Imh0dHA6Ly93d3cudzMub3JnLzIwMDAvc3ZnIiB2ZXJzaW9uPSIxLjEiPgogIDxyZWN0IHg9IjAiIHk9IjAiIHdpZHRoPSIxNzAiIGhlaWdodD0iMTEzIiBmaWxsPSIjZjFmMWYxIiBzdHJva2Utd2lkdGg9IjAiICAvPgo8L3N2Zz4=\" title=\"Ricardo Duarte/Divulgação Inter\"/><source media=\"\" srcset=\"data:image/svg+xml;base64,Cjxzdmcgd2lkdGg9IjkwcHgiIGhlaWdodD0iNjBweCIgdmlld0JveD0iMCAwIDkwIDYwIiB4bWxucz0iaHR0cDovL3d3dy53My5vcmcvMjAwMC9zdmciIHZlcnNpb249IjEuMSI+CiAgPHJlY3QgeD0iMCIgeT0iMCIgd2lkdGg9IjkwIiBoZWlnaHQ9IjYwIiBmaWxsPSIjZjFmMWYxIiBzdHJva2Utd2lkdGg9IjAiICAvPgo8L3N2Zz4=\" title=\"Ricardo Duarte/Divulgação Inter\"/><img src=\"data:image/svg+xml;base64,Cjxzdmcgd2lkdGg9IjkwcHgiIGhlaWdodD0iNjBweCIgdmlld0JveD0iMCAwIDkwIDYwIiB4bWxucz0iaHR0cDovL3d3dy53My5vcmcvMjAwMC9zdmciIHZlcnNpb249IjEuMSI+CiAgPHJlY3QgeD0iMCIgeT0iMCIgd2lkdGg9IjkwIiBoZWlnaHQ9IjYwIiBmaWxsPSIjZjFmMWYxIiBzdHJva2Utd2lkdGg9IjAiICAvPgo8L3N2Zz4=\" title=\"Ricardo Duarte/Divulgação Inter\"/></picture></div></div></a><ul class=\"tag-list\"><li><a href=\"/ultimas-noticias/tag/inter/\">inter</a></li><li><a href=\"/ultimas-noticias/tag/futebol/\">futebol</a></li></ul></div><div class=\"card card-article article photo\" id=\"card-5ee10cf0067a37ab64fbc5e5\"><time class=\"date-from-now\" datetime=\"1591807210\">há 22 horas</time><a class=\"\" href=\"/esportes/inter/noticia/2020/06/estamos-praticamente-no-nosso-limite-diz-dirigente-do-inter-sobre-situacao-financeira-ckb9kwohh009s015nydan1qod.html\"><div class=\"article-calls\"><h4 class=\"m-deck\"><span>Efeitos da crise</span></h4><h2 class=\"m-headline\">\"Estamos praticamente no nosso limite\", diz dirigente do Inter sobre situação financeira</h2><h3 class=\"support-text\">O Inter está perto do seu limite financeiro. O Conselho de Gestão colorado já admite muitas dificuldades para continuar mantendo os compromissos em dia nos próximos meses. Existe a possibilidade de at...</h3><div class=\"info-wrapper\"><strong class=\"author\">Douglas Demoliner</strong> - <time datetime=\"1591807210000\">10/06/2020 - 13h40min</time></div></div><div class=\"img-container\"><div class=\"img-wrapper\"><picture class=\"picture-placeholder blink\"><source media=\"(min-width: 768px)\" srcset=\"data:image/svg+xml;base64,Cjxzdmcgd2lkdGg9IjE3MHB4IiBoZWlnaHQ9IjExM3B4IiB2aWV3Qm94PSIwIDAgMTcwIDExMyIgeG1sbnM9Imh0dHA6Ly93d3cudzMub3JnLzIwMDAvc3ZnIiB2ZXJzaW9uPSIxLjEiPgogIDxyZWN0IHg9IjAiIHk9IjAiIHdpZHRoPSIxNzAiIGhlaWdodD0iMTEzIiBmaWxsPSIjZjFmMWYxIiBzdHJva2Utd2lkdGg9IjAiICAvPgo8L3N2Zz4=\" title=\"Ricardo Duarte/Divulgação\"/><source media=\"\" srcset=\"data:image/svg+xml;base64,Cjxzdmcgd2lkdGg9IjkwcHgiIGhlaWdodD0iNjBweCIgdmlld0JveD0iMCAwIDkwIDYwIiB4bWxucz0iaHR0cDovL3d3dy53My5vcmcvMjAwMC9zdmciIHZlcnNpb249IjEuMSI+CiAgPHJlY3QgeD0iMCIgeT0iMCIgd2lkdGg9IjkwIiBoZWlnaHQ9IjYwIiBmaWxsPSIjZjFmMWYxIiBzdHJva2Utd2lkdGg9IjAiICAvPgo8L3N2Zz4=\" title=\"Ricardo Duarte/Divulgação\"/><img alt=\"inter, beira-rio, ct parque gigante\" src=\"data:image/svg+xml;base64,Cjxzdmcgd2lkdGg9IjkwcHgiIGhlaWdodD0iNjBweCIgdmlld0JveD0iMCAwIDkwIDYwIiB4bWxucz0iaHR0cDovL3d3dy53My5vcmcvMjAwMC9zdmciIHZlcnNpb249IjEuMSI+CiAgPHJlY3QgeD0iMCIgeT0iMCIgd2lkdGg9IjkwIiBoZWlnaHQ9IjYwIiBmaWxsPSIjZjFmMWYxIiBzdHJva2Utd2lkdGg9IjAiICAvPgo8L3N2Zz4=\" title=\"Ricardo Duarte/Divulgação\"/></picture></div></div></a><ul class=\"tag-list\"><li><a href=\"/ultimas-noticias/tag/futebol/\">futebol</a></li><li><a href=\"/ultimas-noticias/tag/inter/\">inter</a></li><li><a href=\"/ultimas-noticias/tag/rodrigo-caetano/\">rodrigo caetano</a></li><li><span class=\"tag-more\" data-for=\"tag-more-5ee10cf0067a37ab64fbc5e5\" data-tip=\"React-tooltip\">+<!-- -->1</span><div class=\"__react_component_tooltip place-top type-dark \" data-id=\"tooltip\" id=\"tag-more-5ee10cf0067a37ab64fbc5e5\"><ul class=\"tag-more-list\"><li><a href=\"/ultimas-noticias/tag/alexandre-barcellos/\">alexandre barcellos</a></li></ul></div></li></ul></div><div class=\"card card-article article photo\" id=\"card-5ee0f7ec327481fe1f85cbb0\"><time class=\"date-from-now\" datetime=\"1591801829\">há 24 horas</time><a class=\"\" href=\"/esportes/noticia/2020/06/scocco-ex-inter-anuncia-que-deixara-o-river-plate-ckb9hoslf008m015nsw3sc7jv.html\"><div class=\"article-calls\"><h4 class=\"m-deck\"><span>Passaporte Gre-Nal</span></h4><h2 class=\"m-headline\">Scocco, ex-Inter, anuncia que deixará o River Plate</h2><h3 class=\"support-text\">Desde 2017 no River Plate, o atacante Ignacio Scocco anunciou que não irá seguir no clube para o restante da temporada. Como o contrato se encerra ao final do mês de junho, o jogador comunicou o time ...</h3><div class=\"info-wrapper\"><strong class=\"author\">GaúchaZH</strong> - <time datetime=\"1591801829000\">10/06/2020 - 12h10min</time></div></div><div class=\"img-container\"><div class=\"img-wrapper\"><picture class=\"picture-placeholder blink\"><source media=\"(min-width: 768px)\" srcset=\"data:image/svg+xml;base64,Cjxzdmcgd2lkdGg9IjE3MHB4IiBoZWlnaHQ9IjExM3B4IiB2aWV3Qm94PSIwIDAgMTcwIDExMyIgeG1sbnM9Imh0dHA6Ly93d3cudzMub3JnLzIwMDAvc3ZnIiB2ZXJzaW9uPSIxLjEiPgogIDxyZWN0IHg9IjAiIHk9IjAiIHdpZHRoPSIxNzAiIGhlaWdodD0iMTEzIiBmaWxsPSIjZjFmMWYxIiBzdHJva2Utd2lkdGg9IjAiICAvPgo8L3N2Zz4=\" title=\"Diego Haliasz/River Plate/Divulgação\"/><source media=\"\" srcset=\"data:image/svg+xml;base64,Cjxzdmcgd2lkdGg9IjkwcHgiIGhlaWdodD0iNjBweCIgdmlld0JveD0iMCAwIDkwIDYwIiB4bWxucz0iaHR0cDovL3d3dy53My5vcmcvMjAwMC9zdmciIHZlcnNpb249IjEuMSI+CiAgPHJlY3QgeD0iMCIgeT0iMCIgd2lkdGg9IjkwIiBoZWlnaHQ9IjYwIiBmaWxsPSIjZjFmMWYxIiBzdHJva2Utd2lkdGg9IjAiICAvPgo8L3N2Zz4=\" title=\"Diego Haliasz/River Plate/Divulgação\"/><img alt=\" Ignacio Scocco é substituido no empate em 2 a 2 com o San Lorenzo no Argentino\" src=\"data:image/svg+xml;base64,Cjxzdmcgd2lkdGg9IjkwcHgiIGhlaWdodD0iNjBweCIgdmlld0JveD0iMCAwIDkwIDYwIiB4bWxucz0iaHR0cDovL3d3dy53My5vcmcvMjAwMC9zdmciIHZlcnNpb249IjEuMSI+CiAgPHJlY3QgeD0iMCIgeT0iMCIgd2lkdGg9IjkwIiBoZWlnaHQ9IjYwIiBmaWxsPSIjZjFmMWYxIiBzdHJva2Utd2lkdGg9IjAiICAvPgo8L3N2Zz4=\" title=\"Diego Haliasz/River Plate/Divulgação\"/></picture></div></div></a><ul class=\"tag-list\"><li><a href=\"/ultimas-noticias/tag/futebol/\">futebol</a></li><li><a href=\"/ultimas-noticias/tag/inter/\">inter</a></li><li><a href=\"/ultimas-noticias/tag/river-plate/\">river plate</a></li><li><span class=\"tag-more\" data-for=\"tag-more-5ee0f7ec327481fe1f85cbb0\" data-tip=\"React-tooltip\">+<!-- -->1</span><div class=\"__react_component_tooltip place-top type-dark \" data-id=\"tooltip\" id=\"tag-more-5ee0f7ec327481fe1f85cbb0\"><ul class=\"tag-more-list\"><li><a href=\"/ultimas-noticias/tag/passaporte-gre-nal/\">passaporte gre-nal</a></li></ul></div></li></ul></div><div class=\"card card-article article photo\" id=\"card-5ee0cb7b0e8e43a4e1f816d7\"><time class=\"date-from-now\" datetime=\"1591790452\">há um dia</time><a class=\"\" href=\"/esportes/inter/noticia/2020/06/lele-bortholacci-arrependimento-de-fabricio-mostra-que-ele-estava-errado-ckb8h880w00ch015nhxyc0jl9.html\"><div class=\"article-calls\"><h4 class=\"m-deck\"><span>Paixão Colorada</span></h4><h2 class=\"m-headline\">Lelê Bortholacci: arrependimento de Fabrício mostra que ele estava errado</h2><h3 class=\"support-text\">Uma das características deste período de distanciamento social é que ele está fazendo as pessoas refletirem mais. E, proporcionalmente, as manifestações de arrependimento também vão aumentando. Agora ...</h3><div class=\"info-wrapper\"><strong class=\"author\">Lelê Bortholacci</strong> - <time datetime=\"1591790452000\">10/06/2020 - 9h0min</time></div></div><div class=\"img-container\"><div class=\"img-wrapper\"><picture class=\"picture-placeholder blink\"><source media=\"(min-width: 768px)\" srcset=\"data:image/svg+xml;base64,Cjxzdmcgd2lkdGg9IjE3MHB4IiBoZWlnaHQ9IjExM3B4IiB2aWV3Qm94PSIwIDAgMTcwIDExMyIgeG1sbnM9Imh0dHA6Ly93d3cudzMub3JnLzIwMDAvc3ZnIiB2ZXJzaW9uPSIxLjEiPgogIDxyZWN0IHg9IjAiIHk9IjAiIHdpZHRoPSIxNzAiIGhlaWdodD0iMTEzIiBmaWxsPSIjZjFmMWYxIiBzdHJva2Utd2lkdGg9IjAiICAvPgo8L3N2Zz4=\" title=\"Fernando Gomes/Agência RBS\"/><source media=\"\" srcset=\"data:image/svg+xml;base64,Cjxzdmcgd2lkdGg9IjkwcHgiIGhlaWdodD0iNjBweCIgdmlld0JveD0iMCAwIDkwIDYwIiB4bWxucz0iaHR0cDovL3d3dy53My5vcmcvMjAwMC9zdmciIHZlcnNpb249IjEuMSI+CiAgPHJlY3QgeD0iMCIgeT0iMCIgd2lkdGg9IjkwIiBoZWlnaHQ9IjYwIiBmaWxsPSIjZjFmMWYxIiBzdHJva2Utd2lkdGg9IjAiICAvPgo8L3N2Zz4=\" title=\"Fernando Gomes/Agência RBS\"/><img alt=\"Fabricio xinga torcida do Inter - 01/04/2015\" src=\"data:image/svg+xml;base64,Cjxzdmcgd2lkdGg9IjkwcHgiIGhlaWdodD0iNjBweCIgdmlld0JveD0iMCAwIDkwIDYwIiB4bWxucz0iaHR0cDovL3d3dy53My5vcmcvMjAwMC9zdmciIHZlcnNpb249IjEuMSI+CiAgPHJlY3QgeD0iMCIgeT0iMCIgd2lkdGg9IjkwIiBoZWlnaHQ9IjYwIiBmaWxsPSIjZjFmMWYxIiBzdHJva2Utd2lkdGg9IjAiICAvPgo8L3N2Zz4=\" title=\"Fernando Gomes/Agência RBS\"/></picture></div></div></a><ul class=\"tag-list\"><li><a href=\"/ultimas-noticias/tag/futebol/\">futebol</a></li><li><a href=\"/ultimas-noticias/tag/inter/\">inter</a></li><li><a href=\"/ultimas-noticias/tag/paixao-colorada/\">paixão colorada</a></li></ul></div><div class=\"card card-article article photo\" id=\"card-5ee0c6ec0e8e43a4e1f816ce\"><time class=\"date-from-now\" datetime=\"1591789286\">há um dia</time><a class=\"\" href=\"/esportes/brasileirao/noticia/2020/06/saiba-quais-sao-os-times-de-futebol-do-brasil-que-ja-estao-treinando-ckb9a7yu20012015nkpabg1jf.html\"><div class=\"article-calls\"><h4 class=\"m-deck\"><span>De volta</span></h4><h2 class=\"m-headline\">Saiba quais são os times de futebol do Brasil que já estão treinando</h2><h3 class=\"support-text\">Ainda que não exista data para retorno das competições no futebol brasileiro, alguns clubes resolveram voltar a treinar, buscando condicionamento físico para quando as partidas forem liberadas pelas a...</h3><div class=\"info-wrapper\"><strong class=\"author\">GaúchaZH</strong> - <time datetime=\"1591789286000\">10/06/2020 - 8h41min</time></div></div><div class=\"img-container\"><div class=\"img-wrapper\"><picture class=\"picture-placeholder blink\"><source media=\"(min-width: 768px)\" srcset=\"data:image/svg+xml;base64,Cjxzdmcgd2lkdGg9IjE3MHB4IiBoZWlnaHQ9IjExM3B4IiB2aWV3Qm94PSIwIDAgMTcwIDExMyIgeG1sbnM9Imh0dHA6Ly93d3cudzMub3JnLzIwMDAvc3ZnIiB2ZXJzaW9uPSIxLjEiPgogIDxyZWN0IHg9IjAiIHk9IjAiIHdpZHRoPSIxNzAiIGhlaWdodD0iMTEzIiBmaWxsPSIjZjFmMWYxIiBzdHJva2Utd2lkdGg9IjAiICAvPgo8L3N2Zz4=\" title=\"Lucas Uebel/Grêmio FBPA/Divulgação\"/><source media=\"\" srcset=\"data:image/svg+xml;base64,Cjxzdmcgd2lkdGg9IjkwcHgiIGhlaWdodD0iNjBweCIgdmlld0JveD0iMCAwIDkwIDYwIiB4bWxucz0iaHR0cDovL3d3dy53My5vcmcvMjAwMC9zdmciIHZlcnNpb249IjEuMSI+CiAgPHJlY3QgeD0iMCIgeT0iMCIgd2lkdGg9IjkwIiBoZWlnaHQ9IjYwIiBmaWxsPSIjZjFmMWYxIiBzdHJva2Utd2lkdGg9IjAiICAvPgo8L3N2Zz4=\" title=\"Lucas Uebel/Grêmio FBPA/Divulgação\"/><img alt=\"Treino Gremio RS - FUTEBOL/TREINO GREMIO  - ESPORTES - Jogadores do Gremio realizam treino durante esta segunda-feira, na preparaÃ§Ã£o para o retorno do futebol. FOTO: LUCAS UEBEL/GREMIO FBPAEditoria: SPOIndexador: Lucas UebelSecao: futebolFonte: Gremio.netFotógrafo: Treino Gremio &lt;!-- NICAID(14507718) --&gt;\" src=\"data:image/svg+xml;base64,Cjxzdmcgd2lkdGg9IjkwcHgiIGhlaWdodD0iNjBweCIgdmlld0JveD0iMCAwIDkwIDYwIiB4bWxucz0iaHR0cDovL3d3dy53My5vcmcvMjAwMC9zdmciIHZlcnNpb249IjEuMSI+CiAgPHJlY3QgeD0iMCIgeT0iMCIgd2lkdGg9IjkwIiBoZWlnaHQ9IjYwIiBmaWxsPSIjZjFmMWYxIiBzdHJva2Utd2lkdGg9IjAiICAvPgo8L3N2Zz4=\" title=\"Lucas Uebel/Grêmio FBPA/Divulgação\"/></picture></div></div></a><ul class=\"tag-list\"><li><a href=\"/ultimas-noticias/tag/futebol/\">futebol</a></li><li><a href=\"/ultimas-noticias/tag/coronavirus/\">coronavírus</a></li><li><a href=\"/ultimas-noticias/tag/gremio/\">grêmio</a></li><li><span class=\"tag-more\" data-for=\"tag-more-5ee0c6ec0e8e43a4e1f816ce\" data-tip=\"React-tooltip\">+<!-- -->1</span><div class=\"__react_component_tooltip place-top type-dark \" data-id=\"tooltip\" id=\"tag-more-5ee0c6ec0e8e43a4e1f816ce\"><ul class=\"tag-more-list\"><li><a href=\"/ultimas-noticias/tag/inter/\">inter</a></li></ul></div></li></ul></div><div class=\"card card-article column photo\" id=\"card-5ee0bd5cc0b6d1d239911d33\"><time class=\"date-from-now\" datetime=\"1591786836\">há um dia</time><a class=\"\" href=\"/colunistas/marcos-bertoncello/noticia/2020/06/gols-alta-expectativa-e-emprestimos-os-numeros-de-valdivia-pelo-inter-ckb8h0ii700c2015nqb1q0jaa.html\"><div class=\"article-calls\"><h4 class=\"m-deck\"><span>Memória</span></h4><h2 class=\"m-headline\">Gols, alta expectativa e empréstimos: os números de Valdívia pelo Inter</h2><h3 class=\"support-text\">Uma história de amor e ódio é um resumo interessante sobre o vínculo de Valdívia com o Inter. De incontestável potencial no ano de 2015, brilhando na campanha colorada como semifinalista da Libertador...</h3><div class=\"info-wrapper\"><strong class=\"author\">Marcos Bertoncello</strong> - <time datetime=\"1591786836000\">10/06/2020 - 8h0min</time></div></div><div class=\"img-container\"><div class=\"img-wrapper\"><picture class=\"picture-placeholder blink\"><source media=\"(min-width: 768px)\" srcset=\"data:image/svg+xml;base64,Cjxzdmcgd2lkdGg9IjE3MHB4IiBoZWlnaHQ9IjExM3B4IiB2aWV3Qm94PSIwIDAgMTcwIDExMyIgeG1sbnM9Imh0dHA6Ly93d3cudzMub3JnLzIwMDAvc3ZnIiB2ZXJzaW9uPSIxLjEiPgogIDxyZWN0IHg9IjAiIHk9IjAiIHdpZHRoPSIxNzAiIGhlaWdodD0iMTEzIiBmaWxsPSIjZjFmMWYxIiBzdHJva2Utd2lkdGg9IjAiICAvPgo8L3N2Zz4=\" title=\"Mateus Bruxel/Agencia RBS\"/><source media=\"\" srcset=\"data:image/svg+xml;base64,Cjxzdmcgd2lkdGg9IjkwcHgiIGhlaWdodD0iNjBweCIgdmlld0JveD0iMCAwIDkwIDYwIiB4bWxucz0iaHR0cDovL3d3dy53My5vcmcvMjAwMC9zdmciIHZlcnNpb249IjEuMSI+CiAgPHJlY3QgeD0iMCIgeT0iMCIgd2lkdGg9IjkwIiBoZWlnaHQ9IjYwIiBmaWxsPSIjZjFmMWYxIiBzdHJva2Utd2lkdGg9IjAiICAvPgo8L3N2Zz4=\" title=\"Mateus Bruxel/Agencia RBS\"/><img alt=\" GRAVATAÍ, RS, BRASIL 09/04/2017 - Cruzeiro-RS e Inter se enfrentam no Estádio Vieirão, em partida válida pelas quartas de final do Gaúchão. Jogador Valdívia. (FOTO: MATEUS BRUXEL/AGÊNCIA RBS).\" src=\"data:image/svg+xml;base64,Cjxzdmcgd2lkdGg9IjkwcHgiIGhlaWdodD0iNjBweCIgdmlld0JveD0iMCAwIDkwIDYwIiB4bWxucz0iaHR0cDovL3d3dy53My5vcmcvMjAwMC9zdmciIHZlcnNpb249IjEuMSI+CiAgPHJlY3QgeD0iMCIgeT0iMCIgd2lkdGg9IjkwIiBoZWlnaHQ9IjYwIiBmaWxsPSIjZjFmMWYxIiBzdHJva2Utd2lkdGg9IjAiICAvPgo8L3N2Zz4=\" title=\"Mateus Bruxel/Agencia RBS\"/></picture></div></div></a><ul class=\"tag-list\"><li><a href=\"/ultimas-noticias/tag/futebol/\">futebol</a></li><li><a href=\"/ultimas-noticias/tag/inter/\">inter</a></li><li><a href=\"/ultimas-noticias/tag/valdivia/\">valdívia</a></li></ul></div><div class=\"card card-article column photo\" id=\"card-5ee0bd4d49b6785555caaee8\"><time class=\"date-from-now\" datetime=\"1591786823\">há um dia</time><a class=\"\" href=\"/colunistas/guerrinha/noticia/2020/06/inter-segue-com-cobertor-curto-para-reposicao-no-ataque-ckb8f5jxg009h015ngozttz98.html\"><div class=\"article-calls\"><h4 class=\"m-deck\"><span>Necessidade</span></h4><h2 class=\"m-headline\">Inter segue com cobertor curto para reposição no ataque</h2><h3 class=\"support-text\">Ainda falta alguém. Verdade que o mais importante, neste momento de cofres vazios, é reforçar o caixa, mas isso não impede que o Inter pense em achar mais um atacante de área, além de Guerrero e Gusta...</h3><div class=\"info-wrapper\"><strong class=\"author\">Adroaldo Guerra Filho</strong> - <time datetime=\"1591786823000\">10/06/2020 - 8h0min</time></div></div><div class=\"img-container\"><div class=\"img-wrapper\"><picture class=\"picture-placeholder blink\"><source media=\"(min-width: 768px)\" srcset=\"data:image/svg+xml;base64,Cjxzdmcgd2lkdGg9IjE3MHB4IiBoZWlnaHQ9IjExM3B4IiB2aWV3Qm94PSIwIDAgMTcwIDExMyIgeG1sbnM9Imh0dHA6Ly93d3cudzMub3JnLzIwMDAvc3ZnIiB2ZXJzaW9uPSIxLjEiPgogIDxyZWN0IHg9IjAiIHk9IjAiIHdpZHRoPSIxNzAiIGhlaWdodD0iMTEzIiBmaWxsPSIjZjFmMWYxIiBzdHJva2Utd2lkdGg9IjAiICAvPgo8L3N2Zz4=\" title=\"Ricardo Duarte/Inter\"/><source media=\"\" srcset=\"data:image/svg+xml;base64,Cjxzdmcgd2lkdGg9IjkwcHgiIGhlaWdodD0iNjBweCIgdmlld0JveD0iMCAwIDkwIDYwIiB4bWxucz0iaHR0cDovL3d3dy53My5vcmcvMjAwMC9zdmciIHZlcnNpb249IjEuMSI+CiAgPHJlY3QgeD0iMCIgeT0iMCIgd2lkdGg9IjkwIiBoZWlnaHQ9IjYwIiBmaWxsPSIjZjFmMWYxIiBzdHJva2Utd2lkdGg9IjAiICAvPgo8L3N2Zz4=\" title=\"Ricardo Duarte/Inter\"/><img alt=\"guerrero, inter\" src=\"data:image/svg+xml;base64,Cjxzdmcgd2lkdGg9IjkwcHgiIGhlaWdodD0iNjBweCIgdmlld0JveD0iMCAwIDkwIDYwIiB4bWxucz0iaHR0cDovL3d3dy53My5vcmcvMjAwMC9zdmciIHZlcnNpb249IjEuMSI+CiAgPHJlY3QgeD0iMCIgeT0iMCIgd2lkdGg9IjkwIiBoZWlnaHQ9IjYwIiBmaWxsPSIjZjFmMWYxIiBzdHJva2Utd2lkdGg9IjAiICAvPgo8L3N2Zz4=\" title=\"Ricardo Duarte/Inter\"/></picture></div></div></a><ul class=\"tag-list\"><li><a href=\"/ultimas-noticias/tag/inter/\">inter</a></li><li><a href=\"/ultimas-noticias/tag/futebol/\">futebol</a></li><li><a href=\"/ultimas-noticias/tag/thiago-galhardo/\">thiago galhardo</a></li></ul></div><div class=\"card card-article article photo\" id=\"card-5ee0af68c0b6d1d239911d22\"><time class=\"date-from-now\" datetime=\"1591783265\">há um dia</time><a class=\"\" href=\"/esportes/inter/noticia/2020/06/superdupla-fernandao-e-eleito-o-goleador-mais-importante-da-historia-do-inter-ckb8b2992004q015nko5sgbu4.html\"><div class=\"article-calls\"><h4 class=\"m-deck\"><span>Decisão</span></h4><h2 class=\"m-headline\">SuperDupla: Fernandão é eleito o goleador mais importante da história do Inter</h2><h3 class=\"support-text\">Nas últimas duas semanas, GaúchaZH consultou comentaristas para eleger o goleador mais importante da história do Inter. A conquista ficou com Fernandão, campeão da Libertadores e do Mundial com o Colo...</h3><div class=\"info-wrapper\"><strong class=\"author\">GaúchaZH</strong> - <time datetime=\"1591783265000\">10/06/2020 - 7h1min</time></div></div><div class=\"img-container\"><div class=\"img-wrapper\"><picture class=\"picture-placeholder blink\"><source media=\"(min-width: 768px)\" srcset=\"data:image/svg+xml;base64,Cjxzdmcgd2lkdGg9IjE3MHB4IiBoZWlnaHQ9IjExM3B4IiB2aWV3Qm94PSIwIDAgMTcwIDExMyIgeG1sbnM9Imh0dHA6Ly93d3cudzMub3JnLzIwMDAvc3ZnIiB2ZXJzaW9uPSIxLjEiPgogIDxyZWN0IHg9IjAiIHk9IjAiIHdpZHRoPSIxNzAiIGhlaWdodD0iMTEzIiBmaWxsPSIjZjFmMWYxIiBzdHJva2Utd2lkdGg9IjAiICAvPgo8L3N2Zz4=\" title=\"Arte/GZH\"/><source media=\"\" srcset=\"data:image/svg+xml;base64,Cjxzdmcgd2lkdGg9IjkwcHgiIGhlaWdodD0iNjBweCIgdmlld0JveD0iMCAwIDkwIDYwIiB4bWxucz0iaHR0cDovL3d3dy53My5vcmcvMjAwMC9zdmciIHZlcnNpb249IjEuMSI+CiAgPHJlY3QgeD0iMCIgeT0iMCIgd2lkdGg9IjkwIiBoZWlnaHQ9IjYwIiBmaWxsPSIjZjFmMWYxIiBzdHJva2Utd2lkdGg9IjAiICAvPgo8L3N2Zz4=\" title=\"Arte/GZH\"/><img alt=\"Inter Superdupla\" src=\"data:image/svg+xml;base64,Cjxzdmcgd2lkdGg9IjkwcHgiIGhlaWdodD0iNjBweCIgdmlld0JveD0iMCAwIDkwIDYwIiB4bWxucz0iaHR0cDovL3d3dy53My5vcmcvMjAwMC9zdmciIHZlcnNpb249IjEuMSI+CiAgPHJlY3QgeD0iMCIgeT0iMCIgd2lkdGg9IjkwIiBoZWlnaHQ9IjYwIiBmaWxsPSIjZjFmMWYxIiBzdHJva2Utd2lkdGg9IjAiICAvPgo8L3N2Zz4=\" title=\"Arte/GZH\"/></picture></div></div></a><ul class=\"tag-list\"><li><a href=\"/ultimas-noticias/tag/futebol/\">futebol</a></li><li><a href=\"/ultimas-noticias/tag/inter/\">inter</a></li><li><a href=\"/ultimas-noticias/tag/superdupla/\">superdupla</a></li><li><span class=\"tag-more\" data-for=\"tag-more-5ee0af68c0b6d1d239911d22\" data-tip=\"React-tooltip\">+<!-- -->1</span><div class=\"__react_component_tooltip place-top type-dark \" data-id=\"tooltip\" id=\"tag-more-5ee0af68c0b6d1d239911d22\"><ul class=\"tag-more-list\"><li><a href=\"/ultimas-noticias/tag/fernandao/\">fernandão</a></li></ul></div></li></ul></div><div class=\"card card-article column photo\" id=\"card-5ee0af2e49b6785555caaed9\"><time class=\"date-from-now\" datetime=\"1591783206\">há um dia</time><a class=\"\" href=\"/colunistas/leonardo-oliveira/noticia/2020/06/esta-se-criando-uma-lacuna-na-formacao-diz-diretor-da-base-do-inter-sobre-periodo-de-paralisacao-ckb8dequ9007i015njkcfj52w.html\"><div class=\"article-calls\"><h4 class=\"m-deck\"><span>Reflexos da pandemia</span></h4><h2 class=\"m-headline\">\"Está se criando uma lacuna na formação\", diz diretor da base do Inter sobre período de paralisação</h2><h3 class=\"support-text\">A pandemia criou um nó para os clubes desatarem logo ali adiante, depois de retomada as atividades dos times principais. Os quase quatro meses sem futebol, mais do que colocar as categorias de base em...</h3><div class=\"info-wrapper\"><strong class=\"author\">Leonardo Oliveira</strong> - <time datetime=\"1591783206000\">10/06/2020 - 7h0min</time></div></div><div class=\"img-container\"><div class=\"img-wrapper\"><picture class=\"picture-placeholder blink\"><source media=\"(min-width: 768px)\" srcset=\"data:image/svg+xml;base64,Cjxzdmcgd2lkdGg9IjE3MHB4IiBoZWlnaHQ9IjExM3B4IiB2aWV3Qm94PSIwIDAgMTcwIDExMyIgeG1sbnM9Imh0dHA6Ly93d3cudzMub3JnLzIwMDAvc3ZnIiB2ZXJzaW9uPSIxLjEiPgogIDxyZWN0IHg9IjAiIHk9IjAiIHdpZHRoPSIxNzAiIGhlaWdodD0iMTEzIiBmaWxsPSIjZjFmMWYxIiBzdHJva2Utd2lkdGg9IjAiICAvPgo8L3N2Zz4=\" title=\"Divulgação/Inter\"/><source media=\"\" srcset=\"data:image/svg+xml;base64,Cjxzdmcgd2lkdGg9IjkwcHgiIGhlaWdodD0iNjBweCIgdmlld0JveD0iMCAwIDkwIDYwIiB4bWxucz0iaHR0cDovL3d3dy53My5vcmcvMjAwMC9zdmciIHZlcnNpb249IjEuMSI+CiAgPHJlY3QgeD0iMCIgeT0iMCIgd2lkdGg9IjkwIiBoZWlnaHQ9IjYwIiBmaWxsPSIjZjFmMWYxIiBzdHJva2Utd2lkdGg9IjAiICAvPgo8L3N2Zz4=\" title=\"Divulgação/Inter\"/><img alt=\" Elenco sub-17 do Inter &lt;!-- NICAID(14453220) --&gt;\" src=\"data:image/svg+xml;base64,Cjxzdmcgd2lkdGg9IjkwcHgiIGhlaWdodD0iNjBweCIgdmlld0JveD0iMCAwIDkwIDYwIiB4bWxucz0iaHR0cDovL3d3dy53My5vcmcvMjAwMC9zdmciIHZlcnNpb249IjEuMSI+CiAgPHJlY3QgeD0iMCIgeT0iMCIgd2lkdGg9IjkwIiBoZWlnaHQ9IjYwIiBmaWxsPSIjZjFmMWYxIiBzdHJva2Utd2lkdGg9IjAiICAvPgo8L3N2Zz4=\" title=\"Divulgação/Inter\"/></picture></div></div></a><ul class=\"tag-list\"><li><a href=\"/ultimas-noticias/tag/inter/\">inter</a></li><li><a href=\"/ultimas-noticias/tag/futebol/\">futebol</a></li></ul></div><div class=\"card card-article column photo\" id=\"card-5ee0af29c0b6d1d239911d1c\"><time class=\"date-from-now\" datetime=\"1591783202\">há um dia</time><a class=\"\" href=\"/colunistas/pedro-ernesto-denardin/noticia/2020/06/o-futebol-gaucho-esta-vencendo-o-coronavirus-ckb82j6j9004m015nn8gtn3mx.html\"><div class=\"article-calls\"><h4 class=\"m-deck\"><span>Prevenção</span></h4><h2 class=\"m-headline\">O futebol gaúcho está vencendo o coronavírus</h2><h3 class=\"support-text\">Já vejo muita gente assustada aqui em Porto Alegre porque subiu o número de leitos ocupados nos hospitais, o que motivou a prefeitura a não flexibilizar a abertura de mais atividades. Entre elas, o fu...</h3><div class=\"info-wrapper\"><strong class=\"author\">Pedro Ernesto Denardin</strong> - <time datetime=\"1591783202000\">10/06/2020 - 7h0min</time></div></div><div class=\"img-container\"><div class=\"img-wrapper\"><picture class=\"picture-placeholder blink\"><source media=\"(min-width: 768px)\" srcset=\"data:image/svg+xml;base64,Cjxzdmcgd2lkdGg9IjE3MHB4IiBoZWlnaHQ9IjExM3B4IiB2aWV3Qm94PSIwIDAgMTcwIDExMyIgeG1sbnM9Imh0dHA6Ly93d3cudzMub3JnLzIwMDAvc3ZnIiB2ZXJzaW9uPSIxLjEiPgogIDxyZWN0IHg9IjAiIHk9IjAiIHdpZHRoPSIxNzAiIGhlaWdodD0iMTEzIiBmaWxsPSIjZjFmMWYxIiBzdHJva2Utd2lkdGg9IjAiICAvPgo8L3N2Zz4=\" title=\"Porthus Junior/Agencia RBS\"/><source media=\"\" srcset=\"data:image/svg+xml;base64,Cjxzdmcgd2lkdGg9IjkwcHgiIGhlaWdodD0iNjBweCIgdmlld0JveD0iMCAwIDkwIDYwIiB4bWxucz0iaHR0cDovL3d3dy53My5vcmcvMjAwMC9zdmciIHZlcnNpb249IjEuMSI+CiAgPHJlY3QgeD0iMCIgeT0iMCIgd2lkdGg9IjkwIiBoZWlnaHQ9IjYwIiBmaWxsPSIjZjFmMWYxIiBzdHJva2Utd2lkdGg9IjAiICAvPgo8L3N2Zz4=\" title=\"Porthus Junior/Agencia RBS\"/><img alt=\" CAXIAS DO SUL, RS, BRASIL, 22/02/2020. Caxias x Grêmio, jogo da final da Taça Cel. Ewaldo Poeta, primeiro turno do Campeonato Gaúcho 2020 (Gauchão 2020), realizado no estádio Centenário. (Porthus Junior/Agência RBS)&lt;!-- NICAID(14428474) --&gt;\" src=\"data:image/svg+xml;base64,Cjxzdmcgd2lkdGg9IjkwcHgiIGhlaWdodD0iNjBweCIgdmlld0JveD0iMCAwIDkwIDYwIiB4bWxucz0iaHR0cDovL3d3dy53My5vcmcvMjAwMC9zdmciIHZlcnNpb249IjEuMSI+CiAgPHJlY3QgeD0iMCIgeT0iMCIgd2lkdGg9IjkwIiBoZWlnaHQ9IjYwIiBmaWxsPSIjZjFmMWYxIiBzdHJva2Utd2lkdGg9IjAiICAvPgo8L3N2Zz4=\" title=\"Porthus Junior/Agencia RBS\"/></picture></div></div></a><ul class=\"tag-list\"><li><a href=\"/ultimas-noticias/tag/futebol/\">futebol</a></li><li><a href=\"/ultimas-noticias/tag/gremio/\">grêmio</a></li><li><a href=\"/ultimas-noticias/tag/inter/\">inter</a></li><li><span class=\"tag-more\" data-for=\"tag-more-5ee0af29c0b6d1d239911d1c\" data-tip=\"React-tooltip\">+<!-- -->1</span><div class=\"__react_component_tooltip place-top type-dark \" data-id=\"tooltip\" id=\"tag-more-5ee0af29c0b6d1d239911d1c\"><ul class=\"tag-more-list\"><li><a href=\"/ultimas-noticias/tag/coronavirus/\">coronavírus</a></li></ul></div></li></ul></div><div class=\"card card-article column photo\" id=\"card-5ee0a12e141584e07d0f9c12\"><time class=\"date-from-now\" datetime=\"1591779623\">há um dia</time><a class=\"\" href=\"/colunistas/diogo-olivier/noticia/2020/06/o-detalhe-da-negociacao-com-a-turner-que-evitou-um-prejuizo-ainda-maior-ao-inter-ckb8gl6zd00bc015nqx6wqs80.html\"><div class=\"article-calls\"><h4 class=\"m-deck\"><span>Menos dinheiro</span></h4><h2 class=\"m-headline\">O detalhe da negociação com a Turner que evitou um prejuízo ainda maior ao Inter</h2><h3 class=\"support-text\">O Inter receberá cerca de R$ 7 milhões da CBF. O Grêmio, R$ 10 milhões. Como o dinheiro da linha de crédito se refere a um adiantamento dos contratos de TV com a Globo, o fato de ter assinado com a Tu...</h3><div class=\"info-wrapper\"><strong class=\"author\">Diogo Olivier</strong> - <time datetime=\"1591779623000\">10/06/2020 - 6h0min</time></div></div><div class=\"img-container\"><div class=\"img-wrapper\"><picture class=\"picture-placeholder blink\"><source media=\"(min-width: 768px)\" srcset=\"data:image/svg+xml;base64,Cjxzdmcgd2lkdGg9IjE3MHB4IiBoZWlnaHQ9IjExM3B4IiB2aWV3Qm94PSIwIDAgMTcwIDExMyIgeG1sbnM9Imh0dHA6Ly93d3cudzMub3JnLzIwMDAvc3ZnIiB2ZXJzaW9uPSIxLjEiPgogIDxyZWN0IHg9IjAiIHk9IjAiIHdpZHRoPSIxNzAiIGhlaWdodD0iMTEzIiBmaWxsPSIjZjFmMWYxIiBzdHJva2Utd2lkdGg9IjAiICAvPgo8L3N2Zz4=\" title=\"Reprodução/facebook.com/turnerfestival\"/><source media=\"\" srcset=\"data:image/svg+xml;base64,Cjxzdmcgd2lkdGg9IjkwcHgiIGhlaWdodD0iNjBweCIgdmlld0JveD0iMCAwIDkwIDYwIiB4bWxucz0iaHR0cDovL3d3dy53My5vcmcvMjAwMC9zdmciIHZlcnNpb249IjEuMSI+CiAgPHJlY3QgeD0iMCIgeT0iMCIgd2lkdGg9IjkwIiBoZWlnaHQ9IjYwIiBmaWxsPSIjZjFmMWYxIiBzdHJva2Utd2lkdGg9IjAiICAvPgo8L3N2Zz4=\" title=\"Reprodução/facebook.com/turnerfestival\"/><img alt=\"Turner lançou a transmissão do Brasileirão 2019 com o Mindnation festival, em que os canais mostraram seus produtos novos. \" src=\"data:image/svg+xml;base64,Cjxzdmcgd2lkdGg9IjkwcHgiIGhlaWdodD0iNjBweCIgdmlld0JveD0iMCAwIDkwIDYwIiB4bWxucz0iaHR0cDovL3d3dy53My5vcmcvMjAwMC9zdmciIHZlcnNpb249IjEuMSI+CiAgPHJlY3QgeD0iMCIgeT0iMCIgd2lkdGg9IjkwIiBoZWlnaHQ9IjYwIiBmaWxsPSIjZjFmMWYxIiBzdHJva2Utd2lkdGg9IjAiICAvPgo8L3N2Zz4=\" title=\"Reprodução/facebook.com/turnerfestival\"/></picture></div></div></a><ul class=\"tag-list\"><li><a href=\"/ultimas-noticias/tag/futebol/\">futebol</a></li><li><a href=\"/ultimas-noticias/tag/inter/\">inter</a></li><li><a href=\"/ultimas-noticias/tag/turner/\">turner</a></li></ul></div></ul></div>]\n"
          ],
          "name": "stdout"
        }
      ]
    },
    {
      "cell_type": "markdown",
      "metadata": {
        "id": "HawjmM9U7tB8",
        "colab_type": "text"
      },
      "source": [
        "#### Scrap 1 nas manchetes"
      ]
    },
    {
      "cell_type": "code",
      "metadata": {
        "id": "ycPZLneO1s_0",
        "colab_type": "code",
        "colab": {}
      },
      "source": [
        "# percorrer a lista de noticias e filtrar em uma lista apenas os titulos\n",
        "lista_limpa = []\n",
        "for lista_titulos in lista_noticias:\n",
        "  lista = lista_titulos.find_all('h2', class_='m-headline')\n",
        "  for lista_dados in lista:\n",
        "    #print(lista_dados.next_element)\n",
        "    lista_temp = lista_dados.next_element\n",
        "    lista_limpa.append(lista_temp)"
      ],
      "execution_count": 0,
      "outputs": []
    },
    {
      "cell_type": "code",
      "metadata": {
        "id": "tYWgfXffXt44",
        "colab_type": "code",
        "outputId": "c38822d2-f3b9-48b0-d549-54f39af8927d",
        "colab": {
          "base_uri": "https://localhost:8080/",
          "height": 55
        }
      },
      "source": [
        "# lista com as manchetes do site\n",
        "print(lista_limpa)"
      ],
      "execution_count": 38,
      "outputs": [
        {
          "output_type": "stream",
          "text": [
            "['Criado no Inter, Alisson conversa e dá dicas aos goleiros da base do clube', 'Como será o retorno dos veteranos de Grêmio e Inter', 'Lelê Bortholacci: a importância dos cuidados com a saúde mental dos atletas\\xa0', 'Inter ganha alívio financeiro com resposta dos sócios', \"A emoção de D'Alessandro e os sinais que o craque deu sobre seu futuro\", 'A posição da Conmebol sobre a retomada da Libertadores', 'O novo coração do Beira-Rio', 'D\\'Alessandro lembra chegada em 2008 como momento mais especial no Inter: \"Só pensava em fazer o melhor\"', 'Quem é o poderoso empresário italiano que trabalha para colocar Bruno Fuchs no Milan', 'Inter realiza trabalhos de resistência e exercícios com bola no CT Parque Gigante', '\"Estamos praticamente no nosso limite\", diz dirigente do Inter sobre situação financeira', 'Scocco, ex-Inter, anuncia que deixará o River Plate', 'Lelê Bortholacci: arrependimento de Fabrício mostra que ele estava errado', 'Saiba quais são os times de futebol do Brasil que já estão treinando', 'Gols, alta expectativa e empréstimos: os números de Valdívia pelo Inter', 'Inter segue com cobertor curto para reposição no ataque', 'SuperDupla: Fernandão é eleito o goleador mais importante da história do Inter', '\"Está se criando uma lacuna na formação\", diz diretor da base do Inter sobre período de paralisação', 'O futebol gaúcho está vencendo o coronavírus', 'O detalhe da negociação com a Turner que evitou um prejuízo ainda maior ao Inter']\n"
          ],
          "name": "stdout"
        }
      ]
    },
    {
      "cell_type": "code",
      "metadata": {
        "id": "_yVcnicJ5RMt",
        "colab_type": "code",
        "colab": {}
      },
      "source": [
        "# convertendo a lista em data frame e incluindo o nome para a coluna\n",
        "df = pd.DataFrame(lista_limpa, columns=['Manchetes'])"
      ],
      "execution_count": 0,
      "outputs": []
    },
    {
      "cell_type": "markdown",
      "metadata": {
        "id": "tQMAVUq17zxU",
        "colab_type": "text"
      },
      "source": [
        "#### Scrap 1 nos horários dos posts"
      ]
    },
    {
      "cell_type": "code",
      "metadata": {
        "id": "GbqRGQmbBf78",
        "colab_type": "code",
        "outputId": "06b62a56-5e70-4ce0-faa0-c6b0517c81d8",
        "colab": {
          "base_uri": "https://localhost:8080/",
          "height": 55
        }
      },
      "source": [
        "# fazendo uma busca no html utilizando o Soup para buscar o horário dos posts\n",
        "soup_horario = BeautifulSoup(req.content, 'html.parser')\n",
        "lista_horario = soup_horario.find_all('time', class_=\"date-from-now\")\n",
        "print(lista_horario)"
      ],
      "execution_count": 40,
      "outputs": [
        {
          "output_type": "stream",
          "text": [
            "[<time class=\"date-from-now\" datetime=\"1591887792\">há 2 min</time>, <time class=\"date-from-now\" datetime=\"1591873243\">há 4 horas</time>, <time class=\"date-from-now\" datetime=\"1591873233\">há 4 horas</time>, <time class=\"date-from-now\" datetime=\"1591869650\">há 5 horas</time>, <time class=\"date-from-now\" datetime=\"1591869633\">há 5 horas</time>, <time class=\"date-from-now\" datetime=\"1591869603\">há 5 horas</time>, <time class=\"date-from-now\" datetime=\"1591866017\">há 6 horas</time>, <time class=\"date-from-now\" datetime=\"1591823424\">há 18 horas</time>, <time class=\"date-from-now\" datetime=\"1591814422\">há 20 horas</time>, <time class=\"date-from-now\" datetime=\"1591810449\">há 22 horas</time>, <time class=\"date-from-now\" datetime=\"1591807210\">há 22 horas</time>, <time class=\"date-from-now\" datetime=\"1591801829\">há 24 horas</time>, <time class=\"date-from-now\" datetime=\"1591790452\">há um dia</time>, <time class=\"date-from-now\" datetime=\"1591789286\">há um dia</time>, <time class=\"date-from-now\" datetime=\"1591786836\">há um dia</time>, <time class=\"date-from-now\" datetime=\"1591786823\">há um dia</time>, <time class=\"date-from-now\" datetime=\"1591783265\">há um dia</time>, <time class=\"date-from-now\" datetime=\"1591783206\">há um dia</time>, <time class=\"date-from-now\" datetime=\"1591783202\">há um dia</time>, <time class=\"date-from-now\" datetime=\"1591779623\">há um dia</time>]\n"
          ],
          "name": "stdout"
        }
      ]
    },
    {
      "cell_type": "code",
      "metadata": {
        "id": "tg3VH0sJ-MDs",
        "colab_type": "code",
        "colab": {}
      },
      "source": [
        "# percorrer a lista de noticias e filtrar em uma lista apenas os horários dos posts\n",
        "lista_time = []\n",
        "for lista_dados in lista_horario:\n",
        "  lista_dados = lista_dados.next_element\n",
        "  lista_time.append(lista_dados)"
      ],
      "execution_count": 0,
      "outputs": []
    },
    {
      "cell_type": "code",
      "metadata": {
        "id": "_KSMbcyA_XFt",
        "colab_type": "code",
        "outputId": "82ce5049-b007-4015-a06f-7cb5fca9f663",
        "colab": {
          "base_uri": "https://localhost:8080/",
          "height": 55
        }
      },
      "source": [
        "# visualizando o horário dos posts\n",
        "print(lista_time)"
      ],
      "execution_count": 42,
      "outputs": [
        {
          "output_type": "stream",
          "text": [
            "['há 2 min', 'há 4 horas', 'há 4 horas', 'há 5 horas', 'há 5 horas', 'há 5 horas', 'há 6 horas', 'há 18 horas', 'há 20 horas', 'há 22 horas', 'há 22 horas', 'há 24 horas', 'há um dia', 'há um dia', 'há um dia', 'há um dia', 'há um dia', 'há um dia', 'há um dia', 'há um dia']\n"
          ],
          "name": "stdout"
        }
      ]
    },
    {
      "cell_type": "code",
      "metadata": {
        "id": "RoY87WM2f060",
        "colab_type": "code",
        "colab": {}
      },
      "source": [
        "# convertendo a lista em data frame e incluindo o nome para a coluna\n",
        "df_horario = pd.DataFrame(lista_time, columns=['Horario'])"
      ],
      "execution_count": 0,
      "outputs": []
    },
    {
      "cell_type": "code",
      "metadata": {
        "id": "QsoGpAvn32fM",
        "colab_type": "code",
        "colab": {}
      },
      "source": [
        "# concatenando os dataframes de manchete e horario\n",
        "df_unica = [df, df_horario]\n",
        "df_geral = pd.concat((df_unica), axis=1, join='inner')"
      ],
      "execution_count": 0,
      "outputs": []
    },
    {
      "cell_type": "code",
      "metadata": {
        "id": "_Uh19Gk_4HmG",
        "colab_type": "code",
        "colab": {
          "base_uri": "https://localhost:8080/",
          "height": 198
        },
        "outputId": "7add2aa7-c9d0-484b-9d99-c55717375e1d"
      },
      "source": [
        "# visualizando o dataframe concatenado\n",
        "df_geral.head()"
      ],
      "execution_count": 45,
      "outputs": [
        {
          "output_type": "execute_result",
          "data": {
            "text/html": [
              "<div>\n",
              "<style scoped>\n",
              "    .dataframe tbody tr th:only-of-type {\n",
              "        vertical-align: middle;\n",
              "    }\n",
              "\n",
              "    .dataframe tbody tr th {\n",
              "        vertical-align: top;\n",
              "    }\n",
              "\n",
              "    .dataframe thead th {\n",
              "        text-align: right;\n",
              "    }\n",
              "</style>\n",
              "<table border=\"1\" class=\"dataframe\">\n",
              "  <thead>\n",
              "    <tr style=\"text-align: right;\">\n",
              "      <th></th>\n",
              "      <th>Manchetes</th>\n",
              "      <th>Horario</th>\n",
              "    </tr>\n",
              "  </thead>\n",
              "  <tbody>\n",
              "    <tr>\n",
              "      <th>0</th>\n",
              "      <td>Criado no Inter, Alisson conversa e dá dicas aos goleiros da base do clube</td>\n",
              "      <td>há 2 min</td>\n",
              "    </tr>\n",
              "    <tr>\n",
              "      <th>1</th>\n",
              "      <td>Como será o retorno dos veteranos de Grêmio e Inter</td>\n",
              "      <td>há 4 horas</td>\n",
              "    </tr>\n",
              "    <tr>\n",
              "      <th>2</th>\n",
              "      <td>Lelê Bortholacci: a importância dos cuidados com a saúde mental dos atletas</td>\n",
              "      <td>há 4 horas</td>\n",
              "    </tr>\n",
              "    <tr>\n",
              "      <th>3</th>\n",
              "      <td>Inter ganha alívio financeiro com resposta dos sócios</td>\n",
              "      <td>há 5 horas</td>\n",
              "    </tr>\n",
              "    <tr>\n",
              "      <th>4</th>\n",
              "      <td>A emoção de D'Alessandro e os sinais que o craque deu sobre seu futuro</td>\n",
              "      <td>há 5 horas</td>\n",
              "    </tr>\n",
              "  </tbody>\n",
              "</table>\n",
              "</div>"
            ],
            "text/plain": [
              "                                                                      Manchetes     Horario\n",
              "0    Criado no Inter, Alisson conversa e dá dicas aos goleiros da base do clube    há 2 min\n",
              "1                           Como será o retorno dos veteranos de Grêmio e Inter  há 4 horas\n",
              "2  Lelê Bortholacci: a importância dos cuidados com a saúde mental dos atletas   há 4 horas\n",
              "3                         Inter ganha alívio financeiro com resposta dos sócios  há 5 horas\n",
              "4        A emoção de D'Alessandro e os sinais que o craque deu sobre seu futuro  há 5 horas"
            ]
          },
          "metadata": {
            "tags": []
          },
          "execution_count": 45
        }
      ]
    },
    {
      "cell_type": "code",
      "metadata": {
        "id": "zXWHi4WFj1KT",
        "colab_type": "code",
        "outputId": "5c548af2-f7bc-4e4c-f3eb-c7418a91ef1f",
        "colab": {
          "base_uri": "https://localhost:8080/",
          "height": 35
        }
      },
      "source": [
        "# verificando o tamanho da manchete maior\n",
        "df_geral['Manchetes'].str.len().max()"
      ],
      "execution_count": 46,
      "outputs": [
        {
          "output_type": "execute_result",
          "data": {
            "text/plain": [
              "103"
            ]
          },
          "metadata": {
            "tags": []
          },
          "execution_count": 46
        }
      ]
    },
    {
      "cell_type": "code",
      "metadata": {
        "id": "H5tRvAIBjr-R",
        "colab_type": "code",
        "colab": {}
      },
      "source": [
        "# modificando o tamanhho de exibição do dataframe \n",
        "pd.set_option('max_colwidth', 120)"
      ],
      "execution_count": 0,
      "outputs": []
    },
    {
      "cell_type": "code",
      "metadata": {
        "id": "iOrI-e5SqnMK",
        "colab_type": "code",
        "colab": {
          "base_uri": "https://localhost:8080/",
          "height": 458
        },
        "outputId": "3ef4008c-c22f-4637-98d3-d390d8c76db1"
      },
      "source": [
        "# printando dataframe estilizado /abrir pelo colab para verificar a estilização/\n",
        "df_geral.style.set_properties(**{'background-color': '#df0000',\n",
        "                           'color': 'white',\n",
        "                           'border-color': 'white'})"
      ],
      "execution_count": 48,
      "outputs": [
        {
          "output_type": "execute_result",
          "data": {
            "text/html": [
              "<style  type=\"text/css\" >\n",
              "    #T_a46faf7c_abf5_11ea_87e9_0242ac1c0002row0_col0 {\n",
              "            background-color:  #df0000;\n",
              "            color:  white;\n",
              "            border-color:  white;\n",
              "        }    #T_a46faf7c_abf5_11ea_87e9_0242ac1c0002row0_col1 {\n",
              "            background-color:  #df0000;\n",
              "            color:  white;\n",
              "            border-color:  white;\n",
              "        }    #T_a46faf7c_abf5_11ea_87e9_0242ac1c0002row1_col0 {\n",
              "            background-color:  #df0000;\n",
              "            color:  white;\n",
              "            border-color:  white;\n",
              "        }    #T_a46faf7c_abf5_11ea_87e9_0242ac1c0002row1_col1 {\n",
              "            background-color:  #df0000;\n",
              "            color:  white;\n",
              "            border-color:  white;\n",
              "        }    #T_a46faf7c_abf5_11ea_87e9_0242ac1c0002row2_col0 {\n",
              "            background-color:  #df0000;\n",
              "            color:  white;\n",
              "            border-color:  white;\n",
              "        }    #T_a46faf7c_abf5_11ea_87e9_0242ac1c0002row2_col1 {\n",
              "            background-color:  #df0000;\n",
              "            color:  white;\n",
              "            border-color:  white;\n",
              "        }    #T_a46faf7c_abf5_11ea_87e9_0242ac1c0002row3_col0 {\n",
              "            background-color:  #df0000;\n",
              "            color:  white;\n",
              "            border-color:  white;\n",
              "        }    #T_a46faf7c_abf5_11ea_87e9_0242ac1c0002row3_col1 {\n",
              "            background-color:  #df0000;\n",
              "            color:  white;\n",
              "            border-color:  white;\n",
              "        }    #T_a46faf7c_abf5_11ea_87e9_0242ac1c0002row4_col0 {\n",
              "            background-color:  #df0000;\n",
              "            color:  white;\n",
              "            border-color:  white;\n",
              "        }    #T_a46faf7c_abf5_11ea_87e9_0242ac1c0002row4_col1 {\n",
              "            background-color:  #df0000;\n",
              "            color:  white;\n",
              "            border-color:  white;\n",
              "        }    #T_a46faf7c_abf5_11ea_87e9_0242ac1c0002row5_col0 {\n",
              "            background-color:  #df0000;\n",
              "            color:  white;\n",
              "            border-color:  white;\n",
              "        }    #T_a46faf7c_abf5_11ea_87e9_0242ac1c0002row5_col1 {\n",
              "            background-color:  #df0000;\n",
              "            color:  white;\n",
              "            border-color:  white;\n",
              "        }    #T_a46faf7c_abf5_11ea_87e9_0242ac1c0002row6_col0 {\n",
              "            background-color:  #df0000;\n",
              "            color:  white;\n",
              "            border-color:  white;\n",
              "        }    #T_a46faf7c_abf5_11ea_87e9_0242ac1c0002row6_col1 {\n",
              "            background-color:  #df0000;\n",
              "            color:  white;\n",
              "            border-color:  white;\n",
              "        }    #T_a46faf7c_abf5_11ea_87e9_0242ac1c0002row7_col0 {\n",
              "            background-color:  #df0000;\n",
              "            color:  white;\n",
              "            border-color:  white;\n",
              "        }    #T_a46faf7c_abf5_11ea_87e9_0242ac1c0002row7_col1 {\n",
              "            background-color:  #df0000;\n",
              "            color:  white;\n",
              "            border-color:  white;\n",
              "        }    #T_a46faf7c_abf5_11ea_87e9_0242ac1c0002row8_col0 {\n",
              "            background-color:  #df0000;\n",
              "            color:  white;\n",
              "            border-color:  white;\n",
              "        }    #T_a46faf7c_abf5_11ea_87e9_0242ac1c0002row8_col1 {\n",
              "            background-color:  #df0000;\n",
              "            color:  white;\n",
              "            border-color:  white;\n",
              "        }    #T_a46faf7c_abf5_11ea_87e9_0242ac1c0002row9_col0 {\n",
              "            background-color:  #df0000;\n",
              "            color:  white;\n",
              "            border-color:  white;\n",
              "        }    #T_a46faf7c_abf5_11ea_87e9_0242ac1c0002row9_col1 {\n",
              "            background-color:  #df0000;\n",
              "            color:  white;\n",
              "            border-color:  white;\n",
              "        }    #T_a46faf7c_abf5_11ea_87e9_0242ac1c0002row10_col0 {\n",
              "            background-color:  #df0000;\n",
              "            color:  white;\n",
              "            border-color:  white;\n",
              "        }    #T_a46faf7c_abf5_11ea_87e9_0242ac1c0002row10_col1 {\n",
              "            background-color:  #df0000;\n",
              "            color:  white;\n",
              "            border-color:  white;\n",
              "        }    #T_a46faf7c_abf5_11ea_87e9_0242ac1c0002row11_col0 {\n",
              "            background-color:  #df0000;\n",
              "            color:  white;\n",
              "            border-color:  white;\n",
              "        }    #T_a46faf7c_abf5_11ea_87e9_0242ac1c0002row11_col1 {\n",
              "            background-color:  #df0000;\n",
              "            color:  white;\n",
              "            border-color:  white;\n",
              "        }    #T_a46faf7c_abf5_11ea_87e9_0242ac1c0002row12_col0 {\n",
              "            background-color:  #df0000;\n",
              "            color:  white;\n",
              "            border-color:  white;\n",
              "        }    #T_a46faf7c_abf5_11ea_87e9_0242ac1c0002row12_col1 {\n",
              "            background-color:  #df0000;\n",
              "            color:  white;\n",
              "            border-color:  white;\n",
              "        }    #T_a46faf7c_abf5_11ea_87e9_0242ac1c0002row13_col0 {\n",
              "            background-color:  #df0000;\n",
              "            color:  white;\n",
              "            border-color:  white;\n",
              "        }    #T_a46faf7c_abf5_11ea_87e9_0242ac1c0002row13_col1 {\n",
              "            background-color:  #df0000;\n",
              "            color:  white;\n",
              "            border-color:  white;\n",
              "        }    #T_a46faf7c_abf5_11ea_87e9_0242ac1c0002row14_col0 {\n",
              "            background-color:  #df0000;\n",
              "            color:  white;\n",
              "            border-color:  white;\n",
              "        }    #T_a46faf7c_abf5_11ea_87e9_0242ac1c0002row14_col1 {\n",
              "            background-color:  #df0000;\n",
              "            color:  white;\n",
              "            border-color:  white;\n",
              "        }    #T_a46faf7c_abf5_11ea_87e9_0242ac1c0002row15_col0 {\n",
              "            background-color:  #df0000;\n",
              "            color:  white;\n",
              "            border-color:  white;\n",
              "        }    #T_a46faf7c_abf5_11ea_87e9_0242ac1c0002row15_col1 {\n",
              "            background-color:  #df0000;\n",
              "            color:  white;\n",
              "            border-color:  white;\n",
              "        }    #T_a46faf7c_abf5_11ea_87e9_0242ac1c0002row16_col0 {\n",
              "            background-color:  #df0000;\n",
              "            color:  white;\n",
              "            border-color:  white;\n",
              "        }    #T_a46faf7c_abf5_11ea_87e9_0242ac1c0002row16_col1 {\n",
              "            background-color:  #df0000;\n",
              "            color:  white;\n",
              "            border-color:  white;\n",
              "        }    #T_a46faf7c_abf5_11ea_87e9_0242ac1c0002row17_col0 {\n",
              "            background-color:  #df0000;\n",
              "            color:  white;\n",
              "            border-color:  white;\n",
              "        }    #T_a46faf7c_abf5_11ea_87e9_0242ac1c0002row17_col1 {\n",
              "            background-color:  #df0000;\n",
              "            color:  white;\n",
              "            border-color:  white;\n",
              "        }    #T_a46faf7c_abf5_11ea_87e9_0242ac1c0002row18_col0 {\n",
              "            background-color:  #df0000;\n",
              "            color:  white;\n",
              "            border-color:  white;\n",
              "        }    #T_a46faf7c_abf5_11ea_87e9_0242ac1c0002row18_col1 {\n",
              "            background-color:  #df0000;\n",
              "            color:  white;\n",
              "            border-color:  white;\n",
              "        }    #T_a46faf7c_abf5_11ea_87e9_0242ac1c0002row19_col0 {\n",
              "            background-color:  #df0000;\n",
              "            color:  white;\n",
              "            border-color:  white;\n",
              "        }    #T_a46faf7c_abf5_11ea_87e9_0242ac1c0002row19_col1 {\n",
              "            background-color:  #df0000;\n",
              "            color:  white;\n",
              "            border-color:  white;\n",
              "        }</style><table id=\"T_a46faf7c_abf5_11ea_87e9_0242ac1c0002\" ><thead>    <tr>        <th class=\"blank level0\" ></th>        <th class=\"col_heading level0 col0\" >Manchetes</th>        <th class=\"col_heading level0 col1\" >Horario</th>    </tr></thead><tbody>\n",
              "                <tr>\n",
              "                        <th id=\"T_a46faf7c_abf5_11ea_87e9_0242ac1c0002level0_row0\" class=\"row_heading level0 row0\" >0</th>\n",
              "                        <td id=\"T_a46faf7c_abf5_11ea_87e9_0242ac1c0002row0_col0\" class=\"data row0 col0\" >Criado no Inter, Alisson conversa e dá dicas aos goleiros da base do clube</td>\n",
              "                        <td id=\"T_a46faf7c_abf5_11ea_87e9_0242ac1c0002row0_col1\" class=\"data row0 col1\" >há 2 min</td>\n",
              "            </tr>\n",
              "            <tr>\n",
              "                        <th id=\"T_a46faf7c_abf5_11ea_87e9_0242ac1c0002level0_row1\" class=\"row_heading level0 row1\" >1</th>\n",
              "                        <td id=\"T_a46faf7c_abf5_11ea_87e9_0242ac1c0002row1_col0\" class=\"data row1 col0\" >Como será o retorno dos veteranos de Grêmio e Inter</td>\n",
              "                        <td id=\"T_a46faf7c_abf5_11ea_87e9_0242ac1c0002row1_col1\" class=\"data row1 col1\" >há 4 horas</td>\n",
              "            </tr>\n",
              "            <tr>\n",
              "                        <th id=\"T_a46faf7c_abf5_11ea_87e9_0242ac1c0002level0_row2\" class=\"row_heading level0 row2\" >2</th>\n",
              "                        <td id=\"T_a46faf7c_abf5_11ea_87e9_0242ac1c0002row2_col0\" class=\"data row2 col0\" >Lelê Bortholacci: a importância dos cuidados com a saúde mental dos atletas </td>\n",
              "                        <td id=\"T_a46faf7c_abf5_11ea_87e9_0242ac1c0002row2_col1\" class=\"data row2 col1\" >há 4 horas</td>\n",
              "            </tr>\n",
              "            <tr>\n",
              "                        <th id=\"T_a46faf7c_abf5_11ea_87e9_0242ac1c0002level0_row3\" class=\"row_heading level0 row3\" >3</th>\n",
              "                        <td id=\"T_a46faf7c_abf5_11ea_87e9_0242ac1c0002row3_col0\" class=\"data row3 col0\" >Inter ganha alívio financeiro com resposta dos sócios</td>\n",
              "                        <td id=\"T_a46faf7c_abf5_11ea_87e9_0242ac1c0002row3_col1\" class=\"data row3 col1\" >há 5 horas</td>\n",
              "            </tr>\n",
              "            <tr>\n",
              "                        <th id=\"T_a46faf7c_abf5_11ea_87e9_0242ac1c0002level0_row4\" class=\"row_heading level0 row4\" >4</th>\n",
              "                        <td id=\"T_a46faf7c_abf5_11ea_87e9_0242ac1c0002row4_col0\" class=\"data row4 col0\" >A emoção de D'Alessandro e os sinais que o craque deu sobre seu futuro</td>\n",
              "                        <td id=\"T_a46faf7c_abf5_11ea_87e9_0242ac1c0002row4_col1\" class=\"data row4 col1\" >há 5 horas</td>\n",
              "            </tr>\n",
              "            <tr>\n",
              "                        <th id=\"T_a46faf7c_abf5_11ea_87e9_0242ac1c0002level0_row5\" class=\"row_heading level0 row5\" >5</th>\n",
              "                        <td id=\"T_a46faf7c_abf5_11ea_87e9_0242ac1c0002row5_col0\" class=\"data row5 col0\" >A posição da Conmebol sobre a retomada da Libertadores</td>\n",
              "                        <td id=\"T_a46faf7c_abf5_11ea_87e9_0242ac1c0002row5_col1\" class=\"data row5 col1\" >há 5 horas</td>\n",
              "            </tr>\n",
              "            <tr>\n",
              "                        <th id=\"T_a46faf7c_abf5_11ea_87e9_0242ac1c0002level0_row6\" class=\"row_heading level0 row6\" >6</th>\n",
              "                        <td id=\"T_a46faf7c_abf5_11ea_87e9_0242ac1c0002row6_col0\" class=\"data row6 col0\" >O novo coração do Beira-Rio</td>\n",
              "                        <td id=\"T_a46faf7c_abf5_11ea_87e9_0242ac1c0002row6_col1\" class=\"data row6 col1\" >há 6 horas</td>\n",
              "            </tr>\n",
              "            <tr>\n",
              "                        <th id=\"T_a46faf7c_abf5_11ea_87e9_0242ac1c0002level0_row7\" class=\"row_heading level0 row7\" >7</th>\n",
              "                        <td id=\"T_a46faf7c_abf5_11ea_87e9_0242ac1c0002row7_col0\" class=\"data row7 col0\" >D'Alessandro lembra chegada em 2008 como momento mais especial no Inter: \"Só pensava em fazer o melhor\"</td>\n",
              "                        <td id=\"T_a46faf7c_abf5_11ea_87e9_0242ac1c0002row7_col1\" class=\"data row7 col1\" >há 18 horas</td>\n",
              "            </tr>\n",
              "            <tr>\n",
              "                        <th id=\"T_a46faf7c_abf5_11ea_87e9_0242ac1c0002level0_row8\" class=\"row_heading level0 row8\" >8</th>\n",
              "                        <td id=\"T_a46faf7c_abf5_11ea_87e9_0242ac1c0002row8_col0\" class=\"data row8 col0\" >Quem é o poderoso empresário italiano que trabalha para colocar Bruno Fuchs no Milan</td>\n",
              "                        <td id=\"T_a46faf7c_abf5_11ea_87e9_0242ac1c0002row8_col1\" class=\"data row8 col1\" >há 20 horas</td>\n",
              "            </tr>\n",
              "            <tr>\n",
              "                        <th id=\"T_a46faf7c_abf5_11ea_87e9_0242ac1c0002level0_row9\" class=\"row_heading level0 row9\" >9</th>\n",
              "                        <td id=\"T_a46faf7c_abf5_11ea_87e9_0242ac1c0002row9_col0\" class=\"data row9 col0\" >Inter realiza trabalhos de resistência e exercícios com bola no CT Parque Gigante</td>\n",
              "                        <td id=\"T_a46faf7c_abf5_11ea_87e9_0242ac1c0002row9_col1\" class=\"data row9 col1\" >há 22 horas</td>\n",
              "            </tr>\n",
              "            <tr>\n",
              "                        <th id=\"T_a46faf7c_abf5_11ea_87e9_0242ac1c0002level0_row10\" class=\"row_heading level0 row10\" >10</th>\n",
              "                        <td id=\"T_a46faf7c_abf5_11ea_87e9_0242ac1c0002row10_col0\" class=\"data row10 col0\" >\"Estamos praticamente no nosso limite\", diz dirigente do Inter sobre situação financeira</td>\n",
              "                        <td id=\"T_a46faf7c_abf5_11ea_87e9_0242ac1c0002row10_col1\" class=\"data row10 col1\" >há 22 horas</td>\n",
              "            </tr>\n",
              "            <tr>\n",
              "                        <th id=\"T_a46faf7c_abf5_11ea_87e9_0242ac1c0002level0_row11\" class=\"row_heading level0 row11\" >11</th>\n",
              "                        <td id=\"T_a46faf7c_abf5_11ea_87e9_0242ac1c0002row11_col0\" class=\"data row11 col0\" >Scocco, ex-Inter, anuncia que deixará o River Plate</td>\n",
              "                        <td id=\"T_a46faf7c_abf5_11ea_87e9_0242ac1c0002row11_col1\" class=\"data row11 col1\" >há 24 horas</td>\n",
              "            </tr>\n",
              "            <tr>\n",
              "                        <th id=\"T_a46faf7c_abf5_11ea_87e9_0242ac1c0002level0_row12\" class=\"row_heading level0 row12\" >12</th>\n",
              "                        <td id=\"T_a46faf7c_abf5_11ea_87e9_0242ac1c0002row12_col0\" class=\"data row12 col0\" >Lelê Bortholacci: arrependimento de Fabrício mostra que ele estava errado</td>\n",
              "                        <td id=\"T_a46faf7c_abf5_11ea_87e9_0242ac1c0002row12_col1\" class=\"data row12 col1\" >há um dia</td>\n",
              "            </tr>\n",
              "            <tr>\n",
              "                        <th id=\"T_a46faf7c_abf5_11ea_87e9_0242ac1c0002level0_row13\" class=\"row_heading level0 row13\" >13</th>\n",
              "                        <td id=\"T_a46faf7c_abf5_11ea_87e9_0242ac1c0002row13_col0\" class=\"data row13 col0\" >Saiba quais são os times de futebol do Brasil que já estão treinando</td>\n",
              "                        <td id=\"T_a46faf7c_abf5_11ea_87e9_0242ac1c0002row13_col1\" class=\"data row13 col1\" >há um dia</td>\n",
              "            </tr>\n",
              "            <tr>\n",
              "                        <th id=\"T_a46faf7c_abf5_11ea_87e9_0242ac1c0002level0_row14\" class=\"row_heading level0 row14\" >14</th>\n",
              "                        <td id=\"T_a46faf7c_abf5_11ea_87e9_0242ac1c0002row14_col0\" class=\"data row14 col0\" >Gols, alta expectativa e empréstimos: os números de Valdívia pelo Inter</td>\n",
              "                        <td id=\"T_a46faf7c_abf5_11ea_87e9_0242ac1c0002row14_col1\" class=\"data row14 col1\" >há um dia</td>\n",
              "            </tr>\n",
              "            <tr>\n",
              "                        <th id=\"T_a46faf7c_abf5_11ea_87e9_0242ac1c0002level0_row15\" class=\"row_heading level0 row15\" >15</th>\n",
              "                        <td id=\"T_a46faf7c_abf5_11ea_87e9_0242ac1c0002row15_col0\" class=\"data row15 col0\" >Inter segue com cobertor curto para reposição no ataque</td>\n",
              "                        <td id=\"T_a46faf7c_abf5_11ea_87e9_0242ac1c0002row15_col1\" class=\"data row15 col1\" >há um dia</td>\n",
              "            </tr>\n",
              "            <tr>\n",
              "                        <th id=\"T_a46faf7c_abf5_11ea_87e9_0242ac1c0002level0_row16\" class=\"row_heading level0 row16\" >16</th>\n",
              "                        <td id=\"T_a46faf7c_abf5_11ea_87e9_0242ac1c0002row16_col0\" class=\"data row16 col0\" >SuperDupla: Fernandão é eleito o goleador mais importante da história do Inter</td>\n",
              "                        <td id=\"T_a46faf7c_abf5_11ea_87e9_0242ac1c0002row16_col1\" class=\"data row16 col1\" >há um dia</td>\n",
              "            </tr>\n",
              "            <tr>\n",
              "                        <th id=\"T_a46faf7c_abf5_11ea_87e9_0242ac1c0002level0_row17\" class=\"row_heading level0 row17\" >17</th>\n",
              "                        <td id=\"T_a46faf7c_abf5_11ea_87e9_0242ac1c0002row17_col0\" class=\"data row17 col0\" >\"Está se criando uma lacuna na formação\", diz diretor da base do Inter sobre período de paralisação</td>\n",
              "                        <td id=\"T_a46faf7c_abf5_11ea_87e9_0242ac1c0002row17_col1\" class=\"data row17 col1\" >há um dia</td>\n",
              "            </tr>\n",
              "            <tr>\n",
              "                        <th id=\"T_a46faf7c_abf5_11ea_87e9_0242ac1c0002level0_row18\" class=\"row_heading level0 row18\" >18</th>\n",
              "                        <td id=\"T_a46faf7c_abf5_11ea_87e9_0242ac1c0002row18_col0\" class=\"data row18 col0\" >O futebol gaúcho está vencendo o coronavírus</td>\n",
              "                        <td id=\"T_a46faf7c_abf5_11ea_87e9_0242ac1c0002row18_col1\" class=\"data row18 col1\" >há um dia</td>\n",
              "            </tr>\n",
              "            <tr>\n",
              "                        <th id=\"T_a46faf7c_abf5_11ea_87e9_0242ac1c0002level0_row19\" class=\"row_heading level0 row19\" >19</th>\n",
              "                        <td id=\"T_a46faf7c_abf5_11ea_87e9_0242ac1c0002row19_col0\" class=\"data row19 col0\" >O detalhe da negociação com a Turner que evitou um prejuízo ainda maior ao Inter</td>\n",
              "                        <td id=\"T_a46faf7c_abf5_11ea_87e9_0242ac1c0002row19_col1\" class=\"data row19 col1\" >há um dia</td>\n",
              "            </tr>\n",
              "    </tbody></table>"
            ],
            "text/plain": [
              "<pandas.io.formats.style.Styler at 0x7f4d0bbd94a8>"
            ]
          },
          "metadata": {
            "tags": []
          },
          "execution_count": 48
        }
      ]
    },
    {
      "cell_type": "code",
      "metadata": {
        "id": "P4vW1ShP1EJ4",
        "colab_type": "code",
        "colab": {}
      },
      "source": [
        ""
      ],
      "execution_count": 0,
      "outputs": []
    }
  ]
}