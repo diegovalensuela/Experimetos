{
  "nbformat": 4,
  "nbformat_minor": 0,
  "metadata": {
    "colab": {
      "name": "experimentos.ipynb",
      "provenance": [],
      "authorship_tag": "ABX9TyMQn5qSu3Y71TTkwQA+92Nk",
      "include_colab_link": true
    },
    "kernelspec": {
      "name": "python3",
      "display_name": "Python 3"
    }
  },
  "cells": [
    {
      "cell_type": "markdown",
      "metadata": {
        "id": "view-in-github",
        "colab_type": "text"
      },
      "source": [
        "<a href=\"https://colab.research.google.com/github/diegovalensuela/Experimetos/blob/master/experimentos.ipynb\" target=\"_parent\"><img src=\"https://colab.research.google.com/assets/colab-badge.svg\" alt=\"Open In Colab\"/></a>"
      ]
    },
    {
      "cell_type": "code",
      "metadata": {
        "id": "kDpdJxQ1Wbw6",
        "colab_type": "code",
        "colab": {}
      },
      "source": [
        "# importar o pandas \n",
        "import pandas as pd\n",
        "# atribuir o arquivo csv a uma variavel\n",
        "df = pd.read_csv('/content/custos.csv', encoding='latin1')"
      ],
      "execution_count": 0,
      "outputs": []
    },
    {
      "cell_type": "code",
      "metadata": {
        "id": "YM5V6iLL6AU-",
        "colab_type": "code",
        "colab": {
          "base_uri": "https://localhost:8080/",
          "height": 204
        },
        "outputId": "e48d6244-ffa6-4daf-da72-0ab51dce3d1a"
      },
      "source": [
        "# exibir as 5 primeiras entradas \n",
        "df.head()"
      ],
      "execution_count": 11,
      "outputs": [
        {
          "output_type": "execute_result",
          "data": {
            "text/html": [
              "<div>\n",
              "<style scoped>\n",
              "    .dataframe tbody tr th:only-of-type {\n",
              "        vertical-align: middle;\n",
              "    }\n",
              "\n",
              "    .dataframe tbody tr th {\n",
              "        vertical-align: top;\n",
              "    }\n",
              "\n",
              "    .dataframe thead th {\n",
              "        text-align: right;\n",
              "    }\n",
              "</style>\n",
              "<table border=\"1\" class=\"dataframe\">\n",
              "  <thead>\n",
              "    <tr style=\"text-align: right;\">\n",
              "      <th></th>\n",
              "      <th>Data</th>\n",
              "      <th>Produto</th>\n",
              "      <th>Serial number</th>\n",
              "      <th>Valor de Venda</th>\n",
              "      <th>Preço Custo</th>\n",
              "      <th>Duração Venda Telefone (mins)</th>\n",
              "      <th>Tempo Preparaçãoo (mins)</th>\n",
              "    </tr>\n",
              "  </thead>\n",
              "  <tbody>\n",
              "    <tr>\n",
              "      <th>0</th>\n",
              "      <td>19/03/2017</td>\n",
              "      <td>AX101</td>\n",
              "      <td>GF54309</td>\n",
              "      <td>68.71</td>\n",
              "      <td>34.36</td>\n",
              "      <td>17</td>\n",
              "      <td>11</td>\n",
              "    </tr>\n",
              "    <tr>\n",
              "      <th>1</th>\n",
              "      <td>27/02/2017</td>\n",
              "      <td>BX102</td>\n",
              "      <td>GF54425</td>\n",
              "      <td>53.57</td>\n",
              "      <td>29.46</td>\n",
              "      <td>26</td>\n",
              "      <td>11</td>\n",
              "    </tr>\n",
              "    <tr>\n",
              "      <th>2</th>\n",
              "      <td>2/3/2017</td>\n",
              "      <td>AX101</td>\n",
              "      <td>GF54381</td>\n",
              "      <td>68.71</td>\n",
              "      <td>37.79</td>\n",
              "      <td>27</td>\n",
              "      <td>20</td>\n",
              "    </tr>\n",
              "    <tr>\n",
              "      <th>3</th>\n",
              "      <td>28/03/2017</td>\n",
              "      <td>BX101</td>\n",
              "      <td>GF54527</td>\n",
              "      <td>30.06</td>\n",
              "      <td>13.53</td>\n",
              "      <td>17</td>\n",
              "      <td>23</td>\n",
              "    </tr>\n",
              "    <tr>\n",
              "      <th>4</th>\n",
              "      <td>3/3/2017</td>\n",
              "      <td>AX101</td>\n",
              "      <td>GF54695</td>\n",
              "      <td>68.71</td>\n",
              "      <td>35.73</td>\n",
              "      <td>0</td>\n",
              "      <td>20</td>\n",
              "    </tr>\n",
              "  </tbody>\n",
              "</table>\n",
              "</div>"
            ],
            "text/plain": [
              "         Data Produto  ... Duração Venda Telefone (mins)  Tempo Preparaçãoo (mins)\n",
              "0  19/03/2017   AX101  ...                            17                        11\n",
              "1  27/02/2017   BX102  ...                            26                        11\n",
              "2    2/3/2017   AX101  ...                            27                        20\n",
              "3  28/03/2017   BX101  ...                            17                        23\n",
              "4    3/3/2017   AX101  ...                             0                        20\n",
              "\n",
              "[5 rows x 7 columns]"
            ]
          },
          "metadata": {
            "tags": []
          },
          "execution_count": 11
        }
      ]
    },
    {
      "cell_type": "code",
      "metadata": {
        "id": "Lt_8PTozASKG",
        "colab_type": "code",
        "colab": {
          "base_uri": "https://localhost:8080/",
          "height": 34
        },
        "outputId": "9a6cd906-2e17-47d3-f99f-dfda552c3712"
      },
      "source": [
        "# contar a quantidade de palavras\n",
        "print('Palavras no total = {}'.format(len(df)))"
      ],
      "execution_count": 12,
      "outputs": [
        {
          "output_type": "stream",
          "text": [
            "Palavras no total = 106\n"
          ],
          "name": "stdout"
        }
      ]
    },
    {
      "cell_type": "code",
      "metadata": {
        "id": "8Np3tK1mAjBU",
        "colab_type": "code",
        "colab": {
          "base_uri": "https://localhost:8080/",
          "height": 34
        },
        "outputId": "c348951e-5817-41db-c96b-7e42cacacb61"
      },
      "source": [
        "# retorna a quantidade de entradas e variáveis\n",
        "df.shape"
      ],
      "execution_count": 13,
      "outputs": [
        {
          "output_type": "execute_result",
          "data": {
            "text/plain": [
              "(106, 7)"
            ]
          },
          "metadata": {
            "tags": []
          },
          "execution_count": 13
        }
      ]
    },
    {
      "cell_type": "code",
      "metadata": {
        "id": "d9hNwN0EA5sy",
        "colab_type": "code",
        "colab": {
          "base_uri": "https://localhost:8080/",
          "height": 68
        },
        "outputId": "ca84bfde-af98-4bd7-cc3e-73f75f21aab7"
      },
      "source": [
        "# retorna o nome de todas as colunas\n",
        "df.columns"
      ],
      "execution_count": 14,
      "outputs": [
        {
          "output_type": "execute_result",
          "data": {
            "text/plain": [
              "Index(['Data', 'Produto', 'Serial number', 'Valor de Venda', 'Preço Custo',\n",
              "       'Duração Venda Telefone (mins)', 'Tempo Preparaçãoo (mins)'],\n",
              "      dtype='object')"
            ]
          },
          "metadata": {
            "tags": []
          },
          "execution_count": 14
        }
      ]
    },
    {
      "cell_type": "code",
      "metadata": {
        "id": "eL70srS-BRIS",
        "colab_type": "code",
        "colab": {
          "base_uri": "https://localhost:8080/",
          "height": 34
        },
        "outputId": "6f6c4119-4ba4-42c0-ad8c-c246f36db55f"
      },
      "source": [
        "# retorna o valor minimo da coluna \"Valor de Venda\"\n",
        "df['Valor de Venda'].min()"
      ],
      "execution_count": 15,
      "outputs": [
        {
          "output_type": "execute_result",
          "data": {
            "text/plain": [
              "17.62"
            ]
          },
          "metadata": {
            "tags": []
          },
          "execution_count": 15
        }
      ]
    }
  ]
}