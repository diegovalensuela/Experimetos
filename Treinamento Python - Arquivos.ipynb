{
  "nbformat": 4,
  "nbformat_minor": 0,
  "metadata": {
    "colab": {
      "name": "Untitled0.ipynb",
      "provenance": [],
      "authorship_tag": "ABX9TyOTXI/aDbfcgoUt21WECHDr",
      "include_colab_link": true
    },
    "kernelspec": {
      "name": "python3",
      "display_name": "Python 3"
    }
  },
  "cells": [
    {
      "cell_type": "markdown",
      "metadata": {
        "id": "view-in-github",
        "colab_type": "text"
      },
      "source": [
        "<a href=\"https://colab.research.google.com/github/diegovalensuela/Experimetos/blob/master/Treinamento%20Python%20-%20Arquivos.ipynb\" target=\"_parent\"><img src=\"https://colab.research.google.com/assets/colab-badge.svg\" alt=\"Open In Colab\"/></a>"
      ]
    },
    {
      "cell_type": "code",
      "metadata": {
        "id": "XrYof133F8yg",
        "colab_type": "code",
        "colab": {}
      },
      "source": [
        "#  importar pandas e atribuir o nome em pd para fazer as chamadas\n",
        "import pandas as pd\n",
        "\n",
        "# importar o arquivo csv em uma variavel df\n",
        "df = pd.read_csv(\"http://dl.dropboxusercontent.com/s/fdzigk974zbx2de/listings.csv?dl=0\")"
      ],
      "execution_count": 0,
      "outputs": []
    },
    {
      "cell_type": "code",
      "metadata": {
        "id": "-NjUMj7zAmJn",
        "colab_type": "code",
        "colab": {
          "base_uri": "https://localhost:8080/",
          "height": 34
        },
        "outputId": "ee1f231f-51b1-46ec-c836-9fa4eb70046c"
      },
      "source": [
        "# retorna o número de entradas(linhas) e o numero de colunas\n",
        "df.shape"
      ],
      "execution_count": 15,
      "outputs": [
        {
          "output_type": "execute_result",
          "data": {
            "text/plain": [
              "(35451, 106)"
            ]
          },
          "metadata": {
            "tags": []
          },
          "execution_count": 15
        }
      ]
    },
    {
      "cell_type": "code",
      "metadata": {
        "id": "ztlVsKZCAmjj",
        "colab_type": "code",
        "colab": {
          "base_uri": "https://localhost:8080/",
          "height": 34
        },
        "outputId": "6d1d26b6-46b5-446e-ccaa-fdc2f964d63b"
      },
      "source": [
        "# ver quantidade de palavras\n",
        "print(\"Quantidade de Palavras: {}\".format(len(df)))"
      ],
      "execution_count": 17,
      "outputs": [
        {
          "output_type": "stream",
          "text": [
            "Quantidade de Palavras: 35451\n"
          ],
          "name": "stdout"
        }
      ]
    },
    {
      "cell_type": "code",
      "metadata": {
        "id": "6xSXXtllAnFD",
        "colab_type": "code",
        "colab": {
          "base_uri": "https://localhost:8080/",
          "height": 446
        },
        "outputId": "9a45a32f-e377-4f36-b55c-cd8a0d43ebf6"
      },
      "source": [
        "# retorna as 3 primeiras entradas da tabela\n",
        "df.head(3)"
      ],
      "execution_count": 18,
      "outputs": [
        {
          "output_type": "execute_result",
          "data": {
            "text/html": [
              "<div>\n",
              "<style scoped>\n",
              "    .dataframe tbody tr th:only-of-type {\n",
              "        vertical-align: middle;\n",
              "    }\n",
              "\n",
              "    .dataframe tbody tr th {\n",
              "        vertical-align: top;\n",
              "    }\n",
              "\n",
              "    .dataframe thead th {\n",
              "        text-align: right;\n",
              "    }\n",
              "</style>\n",
              "<table border=\"1\" class=\"dataframe\">\n",
              "  <thead>\n",
              "    <tr style=\"text-align: right;\">\n",
              "      <th></th>\n",
              "      <th>id</th>\n",
              "      <th>listing_url</th>\n",
              "      <th>scrape_id</th>\n",
              "      <th>last_scraped</th>\n",
              "      <th>name</th>\n",
              "      <th>summary</th>\n",
              "      <th>space</th>\n",
              "      <th>description</th>\n",
              "      <th>experiences_offered</th>\n",
              "      <th>neighborhood_overview</th>\n",
              "      <th>notes</th>\n",
              "      <th>transit</th>\n",
              "      <th>access</th>\n",
              "      <th>interaction</th>\n",
              "      <th>house_rules</th>\n",
              "      <th>thumbnail_url</th>\n",
              "      <th>medium_url</th>\n",
              "      <th>picture_url</th>\n",
              "      <th>xl_picture_url</th>\n",
              "      <th>host_id</th>\n",
              "      <th>host_url</th>\n",
              "      <th>host_name</th>\n",
              "      <th>host_since</th>\n",
              "      <th>host_location</th>\n",
              "      <th>host_about</th>\n",
              "      <th>host_response_time</th>\n",
              "      <th>host_response_rate</th>\n",
              "      <th>host_acceptance_rate</th>\n",
              "      <th>host_is_superhost</th>\n",
              "      <th>host_thumbnail_url</th>\n",
              "      <th>host_picture_url</th>\n",
              "      <th>host_neighbourhood</th>\n",
              "      <th>host_listings_count</th>\n",
              "      <th>host_total_listings_count</th>\n",
              "      <th>host_verifications</th>\n",
              "      <th>host_has_profile_pic</th>\n",
              "      <th>host_identity_verified</th>\n",
              "      <th>street</th>\n",
              "      <th>neighbourhood</th>\n",
              "      <th>neighbourhood_cleansed</th>\n",
              "      <th>...</th>\n",
              "      <th>extra_people</th>\n",
              "      <th>minimum_nights</th>\n",
              "      <th>maximum_nights</th>\n",
              "      <th>minimum_minimum_nights</th>\n",
              "      <th>maximum_minimum_nights</th>\n",
              "      <th>minimum_maximum_nights</th>\n",
              "      <th>maximum_maximum_nights</th>\n",
              "      <th>minimum_nights_avg_ntm</th>\n",
              "      <th>maximum_nights_avg_ntm</th>\n",
              "      <th>calendar_updated</th>\n",
              "      <th>has_availability</th>\n",
              "      <th>availability_30</th>\n",
              "      <th>availability_60</th>\n",
              "      <th>availability_90</th>\n",
              "      <th>availability_365</th>\n",
              "      <th>calendar_last_scraped</th>\n",
              "      <th>number_of_reviews</th>\n",
              "      <th>number_of_reviews_ltm</th>\n",
              "      <th>first_review</th>\n",
              "      <th>last_review</th>\n",
              "      <th>review_scores_rating</th>\n",
              "      <th>review_scores_accuracy</th>\n",
              "      <th>review_scores_cleanliness</th>\n",
              "      <th>review_scores_checkin</th>\n",
              "      <th>review_scores_communication</th>\n",
              "      <th>review_scores_location</th>\n",
              "      <th>review_scores_value</th>\n",
              "      <th>requires_license</th>\n",
              "      <th>license</th>\n",
              "      <th>jurisdiction_names</th>\n",
              "      <th>instant_bookable</th>\n",
              "      <th>is_business_travel_ready</th>\n",
              "      <th>cancellation_policy</th>\n",
              "      <th>require_guest_profile_picture</th>\n",
              "      <th>require_guest_phone_verification</th>\n",
              "      <th>calculated_host_listings_count</th>\n",
              "      <th>calculated_host_listings_count_entire_homes</th>\n",
              "      <th>calculated_host_listings_count_private_rooms</th>\n",
              "      <th>calculated_host_listings_count_shared_rooms</th>\n",
              "      <th>reviews_per_month</th>\n",
              "    </tr>\n",
              "  </thead>\n",
              "  <tbody>\n",
              "    <tr>\n",
              "      <th>0</th>\n",
              "      <td>17878</td>\n",
              "      <td>https://www.airbnb.com/rooms/17878</td>\n",
              "      <td>20190715155027</td>\n",
              "      <td>2019-07-16</td>\n",
              "      <td>Very Nice 2Br - Copacabana - WiFi</td>\n",
              "      <td>Please note that special rates apply for Carni...</td>\n",
              "      <td>- large balcony which looks out on pedestrian ...</td>\n",
              "      <td>Please note that special rates apply for Carni...</td>\n",
              "      <td>none</td>\n",
              "      <td>This is the best spot in Rio. Everything happe...</td>\n",
              "      <td>NaN</td>\n",
              "      <td>Excellent location. Close to all major public ...</td>\n",
              "      <td>The entire apartment is yours. It is a vacatio...</td>\n",
              "      <td>I will be available throughout your stay shoul...</td>\n",
              "      <td>Please leave the apartment in a clean fashion ...</td>\n",
              "      <td>NaN</td>\n",
              "      <td>NaN</td>\n",
              "      <td>https://a0.muscache.com/im/pictures/65320518/3...</td>\n",
              "      <td>NaN</td>\n",
              "      <td>68997</td>\n",
              "      <td>https://www.airbnb.com/users/show/68997</td>\n",
              "      <td>Matthias</td>\n",
              "      <td>2010-01-08</td>\n",
              "      <td>Rio de Janeiro, Rio de Janeiro, Brazil</td>\n",
              "      <td>I  am a  journalist/writer. Lived for 15 years...</td>\n",
              "      <td>within an hour</td>\n",
              "      <td>100%</td>\n",
              "      <td>NaN</td>\n",
              "      <td>t</td>\n",
              "      <td>https://a0.muscache.com/im/pictures/67b13cea-8...</td>\n",
              "      <td>https://a0.muscache.com/im/pictures/67b13cea-8...</td>\n",
              "      <td>Copacabana</td>\n",
              "      <td>2.0</td>\n",
              "      <td>2.0</td>\n",
              "      <td>['email', 'phone', 'reviews', 'jumio', 'offlin...</td>\n",
              "      <td>t</td>\n",
              "      <td>t</td>\n",
              "      <td>Rio de Janeiro, Rio de Janeiro, Brazil</td>\n",
              "      <td>Copacabana</td>\n",
              "      <td>Copacabana</td>\n",
              "      <td>...</td>\n",
              "      <td>$56.00</td>\n",
              "      <td>4</td>\n",
              "      <td>30</td>\n",
              "      <td>4</td>\n",
              "      <td>4</td>\n",
              "      <td>30</td>\n",
              "      <td>30</td>\n",
              "      <td>4.0</td>\n",
              "      <td>30.0</td>\n",
              "      <td>2 days ago</td>\n",
              "      <td>t</td>\n",
              "      <td>25</td>\n",
              "      <td>55</td>\n",
              "      <td>77</td>\n",
              "      <td>332</td>\n",
              "      <td>2019-07-16</td>\n",
              "      <td>233</td>\n",
              "      <td>23</td>\n",
              "      <td>2010-07-15</td>\n",
              "      <td>2019-06-30</td>\n",
              "      <td>93.0</td>\n",
              "      <td>9.0</td>\n",
              "      <td>10.0</td>\n",
              "      <td>10.0</td>\n",
              "      <td>10.0</td>\n",
              "      <td>10.0</td>\n",
              "      <td>9.0</td>\n",
              "      <td>f</td>\n",
              "      <td>NaN</td>\n",
              "      <td>NaN</td>\n",
              "      <td>t</td>\n",
              "      <td>f</td>\n",
              "      <td>strict_14_with_grace_period</td>\n",
              "      <td>f</td>\n",
              "      <td>f</td>\n",
              "      <td>1</td>\n",
              "      <td>1</td>\n",
              "      <td>0</td>\n",
              "      <td>0</td>\n",
              "      <td>2.13</td>\n",
              "    </tr>\n",
              "    <tr>\n",
              "      <th>1</th>\n",
              "      <td>25026</td>\n",
              "      <td>https://www.airbnb.com/rooms/25026</td>\n",
              "      <td>20190715155027</td>\n",
              "      <td>2019-07-16</td>\n",
              "      <td>Beautiful Modern Decorated Studio in Copa</td>\n",
              "      <td>Our apartment is a little gem, everyone loves ...</td>\n",
              "      <td>This newly renovated studio (last renovations ...</td>\n",
              "      <td>Our apartment is a little gem, everyone loves ...</td>\n",
              "      <td>none</td>\n",
              "      <td>Copacabana is a lively neighborhood and the ap...</td>\n",
              "      <td>For any stay superior to 15 days, an additiona...</td>\n",
              "      <td>At night we recommend you to take taxis only. ...</td>\n",
              "      <td>internet wi-fi, cable tv, air cond, ceiling fa...</td>\n",
              "      <td>Only at check in, we like to leave our guests ...</td>\n",
              "      <td>Smoking outside only. Family building so pleas...</td>\n",
              "      <td>NaN</td>\n",
              "      <td>NaN</td>\n",
              "      <td>https://a0.muscache.com/im/pictures/3003965/68...</td>\n",
              "      <td>NaN</td>\n",
              "      <td>102840</td>\n",
              "      <td>https://www.airbnb.com/users/show/102840</td>\n",
              "      <td>Viviane</td>\n",
              "      <td>2010-04-03</td>\n",
              "      <td>Rio de Janeiro, State of Rio de Janeiro, Brazil</td>\n",
              "      <td>Hi guys, We're a lovely team of 3 people:\\r\\n\\...</td>\n",
              "      <td>within a day</td>\n",
              "      <td>70%</td>\n",
              "      <td>NaN</td>\n",
              "      <td>f</td>\n",
              "      <td>https://a0.muscache.com/im/pictures/9e204f80-1...</td>\n",
              "      <td>https://a0.muscache.com/im/pictures/9e204f80-1...</td>\n",
              "      <td>Copacabana</td>\n",
              "      <td>3.0</td>\n",
              "      <td>3.0</td>\n",
              "      <td>['email', 'phone', 'facebook', 'reviews', 'jum...</td>\n",
              "      <td>t</td>\n",
              "      <td>t</td>\n",
              "      <td>Rio de Janeiro, Rio de Janeiro, Brazil</td>\n",
              "      <td>Copacabana</td>\n",
              "      <td>Copacabana</td>\n",
              "      <td>...</td>\n",
              "      <td>$45.00</td>\n",
              "      <td>4</td>\n",
              "      <td>30</td>\n",
              "      <td>4</td>\n",
              "      <td>4</td>\n",
              "      <td>30</td>\n",
              "      <td>30</td>\n",
              "      <td>4.0</td>\n",
              "      <td>30.0</td>\n",
              "      <td>2 weeks ago</td>\n",
              "      <td>t</td>\n",
              "      <td>24</td>\n",
              "      <td>54</td>\n",
              "      <td>77</td>\n",
              "      <td>352</td>\n",
              "      <td>2019-07-16</td>\n",
              "      <td>232</td>\n",
              "      <td>19</td>\n",
              "      <td>2010-06-07</td>\n",
              "      <td>2019-04-27</td>\n",
              "      <td>94.0</td>\n",
              "      <td>9.0</td>\n",
              "      <td>10.0</td>\n",
              "      <td>9.0</td>\n",
              "      <td>10.0</td>\n",
              "      <td>10.0</td>\n",
              "      <td>9.0</td>\n",
              "      <td>f</td>\n",
              "      <td>NaN</td>\n",
              "      <td>NaN</td>\n",
              "      <td>f</td>\n",
              "      <td>f</td>\n",
              "      <td>strict_14_with_grace_period</td>\n",
              "      <td>t</td>\n",
              "      <td>t</td>\n",
              "      <td>3</td>\n",
              "      <td>3</td>\n",
              "      <td>0</td>\n",
              "      <td>0</td>\n",
              "      <td>2.09</td>\n",
              "    </tr>\n",
              "    <tr>\n",
              "      <th>2</th>\n",
              "      <td>31560</td>\n",
              "      <td>https://www.airbnb.com/rooms/31560</td>\n",
              "      <td>20190715155027</td>\n",
              "      <td>2019-07-16</td>\n",
              "      <td>NICE &amp; COZY 1BDR - IPANEMA BEACH</td>\n",
              "      <td>This nice and clean 1 bedroom apartment is loc...</td>\n",
              "      <td>This nice and clean 1 bedroom apartment is loc...</td>\n",
              "      <td>This nice and clean 1 bedroom apartment is loc...</td>\n",
              "      <td>none</td>\n",
              "      <td>Die Nachbarschaft von Ipanema ist super lebend...</td>\n",
              "      <td>NaN</td>\n",
              "      <td>Bus, U-Bahn, Taxi und Leihfahrräder in der Nähe.</td>\n",
              "      <td>Die Urlauber dürfen das Badezimmer benutzen, d...</td>\n",
              "      <td>NaN</td>\n",
              "      <td>So far, I haven't had any problems with guests...</td>\n",
              "      <td>NaN</td>\n",
              "      <td>NaN</td>\n",
              "      <td>https://a0.muscache.com/im/pictures/83114449/2...</td>\n",
              "      <td>NaN</td>\n",
              "      <td>135635</td>\n",
              "      <td>https://www.airbnb.com/users/show/135635</td>\n",
              "      <td>Renata</td>\n",
              "      <td>2010-05-31</td>\n",
              "      <td>Rio de Janeiro, Rio de Janeiro, Brazil</td>\n",
              "      <td>I was born and raised in Rio de (Website hidde...</td>\n",
              "      <td>within an hour</td>\n",
              "      <td>100%</td>\n",
              "      <td>NaN</td>\n",
              "      <td>t</td>\n",
              "      <td>https://a0.muscache.com/im/users/135635/profil...</td>\n",
              "      <td>https://a0.muscache.com/im/users/135635/profil...</td>\n",
              "      <td>Ipanema</td>\n",
              "      <td>1.0</td>\n",
              "      <td>1.0</td>\n",
              "      <td>['email', 'phone', 'manual_online', 'facebook'...</td>\n",
              "      <td>t</td>\n",
              "      <td>t</td>\n",
              "      <td>Rio de Janeiro, RJ, Brazil</td>\n",
              "      <td>Ipanema</td>\n",
              "      <td>Ipanema</td>\n",
              "      <td>...</td>\n",
              "      <td>$37.00</td>\n",
              "      <td>2</td>\n",
              "      <td>1125</td>\n",
              "      <td>2</td>\n",
              "      <td>5</td>\n",
              "      <td>1125</td>\n",
              "      <td>1125</td>\n",
              "      <td>2.1</td>\n",
              "      <td>1125.0</td>\n",
              "      <td>yesterday</td>\n",
              "      <td>t</td>\n",
              "      <td>8</td>\n",
              "      <td>29</td>\n",
              "      <td>36</td>\n",
              "      <td>125</td>\n",
              "      <td>2019-07-16</td>\n",
              "      <td>260</td>\n",
              "      <td>49</td>\n",
              "      <td>2010-07-11</td>\n",
              "      <td>2019-07-08</td>\n",
              "      <td>96.0</td>\n",
              "      <td>10.0</td>\n",
              "      <td>10.0</td>\n",
              "      <td>10.0</td>\n",
              "      <td>10.0</td>\n",
              "      <td>10.0</td>\n",
              "      <td>10.0</td>\n",
              "      <td>f</td>\n",
              "      <td>NaN</td>\n",
              "      <td>NaN</td>\n",
              "      <td>t</td>\n",
              "      <td>f</td>\n",
              "      <td>strict_14_with_grace_period</td>\n",
              "      <td>f</td>\n",
              "      <td>f</td>\n",
              "      <td>1</td>\n",
              "      <td>1</td>\n",
              "      <td>0</td>\n",
              "      <td>0</td>\n",
              "      <td>2.37</td>\n",
              "    </tr>\n",
              "  </tbody>\n",
              "</table>\n",
              "<p>3 rows × 106 columns</p>\n",
              "</div>"
            ],
            "text/plain": [
              "      id  ... reviews_per_month\n",
              "0  17878  ...              2.13\n",
              "1  25026  ...              2.09\n",
              "2  31560  ...              2.37\n",
              "\n",
              "[3 rows x 106 columns]"
            ]
          },
          "metadata": {
            "tags": []
          },
          "execution_count": 18
        }
      ]
    },
    {
      "cell_type": "code",
      "metadata": {
        "id": "Ih8vtCMaBL7P",
        "colab_type": "code",
        "colab": {
          "base_uri": "https://localhost:8080/",
          "height": 187
        },
        "outputId": "483e0a12-db82-4683-c834-5b97e6585aba"
      },
      "source": [
        "# retorna o nome de todas as colunas\n",
        "df.columns"
      ],
      "execution_count": 19,
      "outputs": [
        {
          "output_type": "execute_result",
          "data": {
            "text/plain": [
              "Index(['id', 'listing_url', 'scrape_id', 'last_scraped', 'name', 'summary',\n",
              "       'space', 'description', 'experiences_offered', 'neighborhood_overview',\n",
              "       ...\n",
              "       'instant_bookable', 'is_business_travel_ready', 'cancellation_policy',\n",
              "       'require_guest_profile_picture', 'require_guest_phone_verification',\n",
              "       'calculated_host_listings_count',\n",
              "       'calculated_host_listings_count_entire_homes',\n",
              "       'calculated_host_listings_count_private_rooms',\n",
              "       'calculated_host_listings_count_shared_rooms', 'reviews_per_month'],\n",
              "      dtype='object', length=106)"
            ]
          },
          "metadata": {
            "tags": []
          },
          "execution_count": 19
        }
      ]
    },
    {
      "cell_type": "code",
      "metadata": {
        "id": "l9G7sF4uBU_K",
        "colab_type": "code",
        "colab": {
          "base_uri": "https://localhost:8080/",
          "height": 221
        },
        "outputId": "ae5a922c-007e-46f3-ba29-24c55291c252"
      },
      "source": [
        "# Retorna a coluna summary\n",
        "df['summary']"
      ],
      "execution_count": 20,
      "outputs": [
        {
          "output_type": "execute_result",
          "data": {
            "text/plain": [
              "0        Please note that special rates apply for Carni...\n",
              "1        Our apartment is a little gem, everyone loves ...\n",
              "2        This nice and clean 1 bedroom apartment is loc...\n",
              "3        This cosy apartment  is just a few steps away ...\n",
              "4        Our newly renovated studio is located in the b...\n",
              "                               ...                        \n",
              "35446    Single room with a single mattress, can be pla...\n",
              "35447    Moro sozinha com dois gatos carinhosos e manso...\n",
              "35448    This apartment comes with 2 bedrooms, a flat-s...\n",
              "35449    Nosso apartamento é aconchegante e funcional. ...\n",
              "35450    Condomínio com segurança 24hrs por dia Mercado...\n",
              "Name: summary, Length: 35451, dtype: object"
            ]
          },
          "metadata": {
            "tags": []
          },
          "execution_count": 20
        }
      ]
    },
    {
      "cell_type": "code",
      "metadata": {
        "id": "SRsjYDsmBbUp",
        "colab_type": "code",
        "colab": {
          "base_uri": "https://localhost:8080/",
          "height": 34
        },
        "outputId": "eec4882a-5d1f-4470-8d8e-38204a27f13c"
      },
      "source": [
        "# retorna o valor minimo dentro da coluna especificada\n",
        "df['host_id'].min()"
      ],
      "execution_count": 21,
      "outputs": [
        {
          "output_type": "execute_result",
          "data": {
            "text/plain": [
              "2616"
            ]
          },
          "metadata": {
            "tags": []
          },
          "execution_count": 21
        }
      ]
    }
  ]
}