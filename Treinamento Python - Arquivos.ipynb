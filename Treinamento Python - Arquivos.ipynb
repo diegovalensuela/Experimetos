{
  "nbformat": 4,
  "nbformat_minor": 0,
  "metadata": {
    "colab": {
      "name": "Untitled0.ipynb",
      "provenance": [],
      "collapsed_sections": [],
      "authorship_tag": "ABX9TyOTXI/aDbfcgoUt21WECHDr",
      "include_colab_link": true
    },
    "kernelspec": {
      "name": "python3",
      "display_name": "Python 3"
    }
  },
  "cells": [
    {
      "cell_type": "markdown",
      "metadata": {
        "id": "view-in-github",
        "colab_type": "text"
      },
      "source": [
        "<a href=\"https://colab.research.google.com/github/diegovalensuela/Experimetos/blob/master/Treinamento%20Python%20-%20Arquivos.ipynb\" target=\"_parent\"><img src=\"https://colab.research.google.com/assets/colab-badge.svg\" alt=\"Open In Colab\"/></a>"
      ]
    },
    {
      "cell_type": "code",
      "metadata": {
        "id": "XrYof133F8yg",
        "colab_type": "code",
        "colab": {}
      },
      "source": [
        "#  importar pandas e atribuir o nome em pd para fazer as chamadas\n",
        "import pandas as pd\n",
        "\n",
        "# importar o arquivo csv em uma variavel df\n",
        "df = pd.read_csv(\"http://dl.dropboxusercontent.com/s/fdzigk974zbx2de/listings.csv?dl=0\")"
      ],
      "execution_count": 0,
      "outputs": []
    },
    {
      "cell_type": "code",
      "metadata": {
        "id": "-NjUMj7zAmJn",
        "colab_type": "code",
        "colab": {}
      },
      "source": [
        "# retorna o número de entradas(linhas) e o numero de colunas\n",
        "df.shape"
      ],
      "execution_count": 0,
      "outputs": []
    },
    {
      "cell_type": "code",
      "metadata": {
        "id": "ztlVsKZCAmjj",
        "colab_type": "code",
        "colab": {}
      },
      "source": [
        "# ver quantidade de palavras\n",
        "print(\"Quantidade de Palavras: {}\".format(len(df)))"
      ],
      "execution_count": 0,
      "outputs": []
    },
    {
      "cell_type": "code",
      "metadata": {
        "id": "6xSXXtllAnFD",
        "colab_type": "code",
        "colab": {}
      },
      "source": [
        "# retorna as 3 primeiras entradas da tabela\n",
        "df.head(3)"
      ],
      "execution_count": 0,
      "outputs": []
    },
    {
      "cell_type": "code",
      "metadata": {
        "id": "Ih8vtCMaBL7P",
        "colab_type": "code",
        "colab": {}
      },
      "source": [
        "# retorna o nome de todas as colunas\n",
        "df.columns"
      ],
      "execution_count": 0,
      "outputs": []
    },
    {
      "cell_type": "code",
      "metadata": {
        "id": "l9G7sF4uBU_K",
        "colab_type": "code",
        "colab": {}
      },
      "source": [
        "# Retorna a coluna summary\n",
        "df['summary']"
      ],
      "execution_count": 0,
      "outputs": []
    },
    {
      "cell_type": "code",
      "metadata": {
        "id": "SRsjYDsmBbUp",
        "colab_type": "code",
        "colab": {}
      },
      "source": [
        "# retorna o valor minimo dentro da coluna especificada\n",
        "df['host_id'].min()"
      ],
      "execution_count": 0,
      "outputs": []
    }
  ]
}