{
  "nbformat": 4,
  "nbformat_minor": 0,
  "metadata": {
    "colab": {
      "name": "Copy of Untitled0.ipynb",
      "provenance": [],
      "authorship_tag": "ABX9TyPmmAogt+YzLYC5kUDKA5FZ",
      "include_colab_link": true
    },
    "kernelspec": {
      "name": "python3",
      "display_name": "Python 3"
    }
  },
  "cells": [
    {
      "cell_type": "markdown",
      "metadata": {
        "id": "view-in-github",
        "colab_type": "text"
      },
      "source": [
        "<a href=\"https://colab.research.google.com/github/diegovalensuela/Experimetos/blob/master/Tratamento%20de%20arquivos%20pt2.ipynb\" target=\"_parent\"><img src=\"https://colab.research.google.com/assets/colab-badge.svg\" alt=\"Open In Colab\"/></a>"
      ]
    },
    {
      "cell_type": "code",
      "metadata": {
        "id": "ik65dmxqdGV5",
        "colab_type": "code",
        "colab": {}
      },
      "source": [
        "import pandas as pd\n",
        "import nltk \n",
        "from wordcloud import WordCloud\n",
        "import matplotlib.pyplot as plt\n",
        "# from googletrans import Translator\n",
        "from nltk import sent_tokenize, word_tokenize"
      ],
      "execution_count": 0,
      "outputs": []
    },
    {
      "cell_type": "code",
      "metadata": {
        "id": "gVNc62tsdl02",
        "colab_type": "code",
        "outputId": "961bb01d-0c51-4023-ba9b-d489546c1f20",
        "colab": {
          "base_uri": "https://localhost:8080/",
          "height": 204
        }
      },
      "source": [
        "#importa a base\n",
        "df = pd.read_csv('/content/Data_science_linkedin_PORT.xls')\n",
        "df.head()"
      ],
      "execution_count": 0,
      "outputs": [
        {
          "output_type": "execute_result",
          "data": {
            "text/html": [
              "<div>\n",
              "<style scoped>\n",
              "    .dataframe tbody tr th:only-of-type {\n",
              "        vertical-align: middle;\n",
              "    }\n",
              "\n",
              "    .dataframe tbody tr th {\n",
              "        vertical-align: top;\n",
              "    }\n",
              "\n",
              "    .dataframe thead th {\n",
              "        text-align: right;\n",
              "    }\n",
              "</style>\n",
              "<table border=\"1\" class=\"dataframe\">\n",
              "  <thead>\n",
              "    <tr style=\"text-align: right;\">\n",
              "      <th></th>\n",
              "      <th>Empresa</th>\n",
              "      <th>Descrição</th>\n",
              "      <th>descricao_port</th>\n",
              "    </tr>\n",
              "  </thead>\n",
              "  <tbody>\n",
              "    <tr>\n",
              "      <th>0</th>\n",
              "      <td>Nubank</td>\n",
              "      <td>About Nubank\\r\\n\\r\\nNubank is the leading fina...</td>\n",
              "      <td>Sobre Nubank\\r\\n\\r\\nNubank é a principal empre...</td>\n",
              "    </tr>\n",
              "    <tr>\n",
              "      <th>1</th>\n",
              "      <td>Jobzia</td>\n",
              "      <td>Responsibilities\\r\\n\\r\\nAs a Senior Associate,...</td>\n",
              "      <td>responsabilidades\\r\\n\\r\\nComo Senior Associate...</td>\n",
              "    </tr>\n",
              "    <tr>\n",
              "      <th>2</th>\n",
              "      <td>Samsung</td>\n",
              "      <td>Position\\r\\n\\r\\n\\r\\n\\r\\n1. Contribute to busin...</td>\n",
              "      <td>Posição\\r\\n\\r\\n\\r\\n\\r\\n1. Contribuir para gest...</td>\n",
              "    </tr>\n",
              "    <tr>\n",
              "      <th>3</th>\n",
              "      <td>OYO</td>\n",
              "      <td>We’re a growing hospitality chain on a mission...</td>\n",
              "      <td>Somos uma cadeia de hospitalidade que crescem ...</td>\n",
              "    </tr>\n",
              "    <tr>\n",
              "      <th>4</th>\n",
              "      <td>Indigo</td>\n",
              "      <td>Indigo improves grower profitability, environm...</td>\n",
              "      <td>Indigo melhora a rentabilidade produtor, a sus...</td>\n",
              "    </tr>\n",
              "  </tbody>\n",
              "</table>\n",
              "</div>"
            ],
            "text/plain": [
              "   Empresa  ...                                     descricao_port\n",
              "0   Nubank  ...  Sobre Nubank\\r\\n\\r\\nNubank é a principal empre...\n",
              "1   Jobzia  ...  responsabilidades\\r\\n\\r\\nComo Senior Associate...\n",
              "2  Samsung  ...  Posição\\r\\n\\r\\n\\r\\n\\r\\n1. Contribuir para gest...\n",
              "3      OYO  ...  Somos uma cadeia de hospitalidade que crescem ...\n",
              "4   Indigo  ...  Indigo melhora a rentabilidade produtor, a sus...\n",
              "\n",
              "[5 rows x 3 columns]"
            ]
          },
          "metadata": {
            "tags": []
          },
          "execution_count": 3
        }
      ]
    },
    {
      "cell_type": "code",
      "metadata": {
        "id": "IicEg5YDeA68",
        "colab_type": "code",
        "outputId": "814ec6e5-db60-43e8-92da-3fb8de078ee4",
        "colab": {
          "base_uri": "https://localhost:8080/",
          "height": 204
        }
      },
      "source": [
        "\n",
        "#põe tudo em minusculo\n",
        "df['descricao_port'] = df['descricao_port'].str.lower()\n",
        "df.head()"
      ],
      "execution_count": 0,
      "outputs": [
        {
          "output_type": "execute_result",
          "data": {
            "text/html": [
              "<div>\n",
              "<style scoped>\n",
              "    .dataframe tbody tr th:only-of-type {\n",
              "        vertical-align: middle;\n",
              "    }\n",
              "\n",
              "    .dataframe tbody tr th {\n",
              "        vertical-align: top;\n",
              "    }\n",
              "\n",
              "    .dataframe thead th {\n",
              "        text-align: right;\n",
              "    }\n",
              "</style>\n",
              "<table border=\"1\" class=\"dataframe\">\n",
              "  <thead>\n",
              "    <tr style=\"text-align: right;\">\n",
              "      <th></th>\n",
              "      <th>Empresa</th>\n",
              "      <th>Descrição</th>\n",
              "      <th>descricao_port</th>\n",
              "    </tr>\n",
              "  </thead>\n",
              "  <tbody>\n",
              "    <tr>\n",
              "      <th>0</th>\n",
              "      <td>Nubank</td>\n",
              "      <td>About Nubank\\r\\n\\r\\nNubank is the leading fina...</td>\n",
              "      <td>sobre nubank\\r\\n\\r\\nnubank é a principal empre...</td>\n",
              "    </tr>\n",
              "    <tr>\n",
              "      <th>1</th>\n",
              "      <td>Jobzia</td>\n",
              "      <td>Responsibilities\\r\\n\\r\\nAs a Senior Associate,...</td>\n",
              "      <td>responsabilidades\\r\\n\\r\\ncomo senior associate...</td>\n",
              "    </tr>\n",
              "    <tr>\n",
              "      <th>2</th>\n",
              "      <td>Samsung</td>\n",
              "      <td>Position\\r\\n\\r\\n\\r\\n\\r\\n1. Contribute to busin...</td>\n",
              "      <td>posição\\r\\n\\r\\n\\r\\n\\r\\n1. contribuir para gest...</td>\n",
              "    </tr>\n",
              "    <tr>\n",
              "      <th>3</th>\n",
              "      <td>OYO</td>\n",
              "      <td>We’re a growing hospitality chain on a mission...</td>\n",
              "      <td>somos uma cadeia de hospitalidade que crescem ...</td>\n",
              "    </tr>\n",
              "    <tr>\n",
              "      <th>4</th>\n",
              "      <td>Indigo</td>\n",
              "      <td>Indigo improves grower profitability, environm...</td>\n",
              "      <td>indigo melhora a rentabilidade produtor, a sus...</td>\n",
              "    </tr>\n",
              "  </tbody>\n",
              "</table>\n",
              "</div>"
            ],
            "text/plain": [
              "   Empresa  ...                                     descricao_port\n",
              "0   Nubank  ...  sobre nubank\\r\\n\\r\\nnubank é a principal empre...\n",
              "1   Jobzia  ...  responsabilidades\\r\\n\\r\\ncomo senior associate...\n",
              "2  Samsung  ...  posição\\r\\n\\r\\n\\r\\n\\r\\n1. contribuir para gest...\n",
              "3      OYO  ...  somos uma cadeia de hospitalidade que crescem ...\n",
              "4   Indigo  ...  indigo melhora a rentabilidade produtor, a sus...\n",
              "\n",
              "[5 rows x 3 columns]"
            ]
          },
          "metadata": {
            "tags": []
          },
          "execution_count": 4
        }
      ]
    },
    {
      "cell_type": "code",
      "metadata": {
        "id": "VUj-pnWGeM30",
        "colab_type": "code",
        "outputId": "1242864e-4855-4772-f73c-3f4c69f30b76",
        "colab": {
          "base_uri": "https://localhost:8080/",
          "height": 204
        }
      },
      "source": [
        "#remove digitos\n",
        "df['descricao_port'] = df['descricao_port'].str.replace(r'[0-9]', '')\n",
        "df.head()"
      ],
      "execution_count": 0,
      "outputs": [
        {
          "output_type": "execute_result",
          "data": {
            "text/html": [
              "<div>\n",
              "<style scoped>\n",
              "    .dataframe tbody tr th:only-of-type {\n",
              "        vertical-align: middle;\n",
              "    }\n",
              "\n",
              "    .dataframe tbody tr th {\n",
              "        vertical-align: top;\n",
              "    }\n",
              "\n",
              "    .dataframe thead th {\n",
              "        text-align: right;\n",
              "    }\n",
              "</style>\n",
              "<table border=\"1\" class=\"dataframe\">\n",
              "  <thead>\n",
              "    <tr style=\"text-align: right;\">\n",
              "      <th></th>\n",
              "      <th>Empresa</th>\n",
              "      <th>Descrição</th>\n",
              "      <th>descricao_port</th>\n",
              "    </tr>\n",
              "  </thead>\n",
              "  <tbody>\n",
              "    <tr>\n",
              "      <th>0</th>\n",
              "      <td>Nubank</td>\n",
              "      <td>About Nubank\\r\\n\\r\\nNubank is the leading fina...</td>\n",
              "      <td>sobre nubank\\r\\n\\r\\nnubank é a principal empre...</td>\n",
              "    </tr>\n",
              "    <tr>\n",
              "      <th>1</th>\n",
              "      <td>Jobzia</td>\n",
              "      <td>Responsibilities\\r\\n\\r\\nAs a Senior Associate,...</td>\n",
              "      <td>responsabilidades\\r\\n\\r\\ncomo senior associate...</td>\n",
              "    </tr>\n",
              "    <tr>\n",
              "      <th>2</th>\n",
              "      <td>Samsung</td>\n",
              "      <td>Position\\r\\n\\r\\n\\r\\n\\r\\n1. Contribute to busin...</td>\n",
              "      <td>posição\\r\\n\\r\\n\\r\\n\\r\\n. contribuir para gestã...</td>\n",
              "    </tr>\n",
              "    <tr>\n",
              "      <th>3</th>\n",
              "      <td>OYO</td>\n",
              "      <td>We’re a growing hospitality chain on a mission...</td>\n",
              "      <td>somos uma cadeia de hospitalidade que crescem ...</td>\n",
              "    </tr>\n",
              "    <tr>\n",
              "      <th>4</th>\n",
              "      <td>Indigo</td>\n",
              "      <td>Indigo improves grower profitability, environm...</td>\n",
              "      <td>indigo melhora a rentabilidade produtor, a sus...</td>\n",
              "    </tr>\n",
              "  </tbody>\n",
              "</table>\n",
              "</div>"
            ],
            "text/plain": [
              "   Empresa  ...                                     descricao_port\n",
              "0   Nubank  ...  sobre nubank\\r\\n\\r\\nnubank é a principal empre...\n",
              "1   Jobzia  ...  responsabilidades\\r\\n\\r\\ncomo senior associate...\n",
              "2  Samsung  ...  posição\\r\\n\\r\\n\\r\\n\\r\\n. contribuir para gestã...\n",
              "3      OYO  ...  somos uma cadeia de hospitalidade que crescem ...\n",
              "4   Indigo  ...  indigo melhora a rentabilidade produtor, a sus...\n",
              "\n",
              "[5 rows x 3 columns]"
            ]
          },
          "metadata": {
            "tags": []
          },
          "execution_count": 5
        }
      ]
    },
    {
      "cell_type": "code",
      "metadata": {
        "id": "OfyiRDDWfUjz",
        "colab_type": "code",
        "outputId": "e7df0135-e678-4171-db8e-a16e5117c2c1",
        "colab": {
          "base_uri": "https://localhost:8080/",
          "height": 204
        }
      },
      "source": [
        "#remove \"erros de importação\"\n",
        "df['descricao_port'] = df['descricao_port'].str.replace('\\r', ' ')\n",
        "df['descricao_port'] = df['descricao_port'].str.replace('\\n', ' ')\n",
        "df.head()"
      ],
      "execution_count": 0,
      "outputs": [
        {
          "output_type": "execute_result",
          "data": {
            "text/html": [
              "<div>\n",
              "<style scoped>\n",
              "    .dataframe tbody tr th:only-of-type {\n",
              "        vertical-align: middle;\n",
              "    }\n",
              "\n",
              "    .dataframe tbody tr th {\n",
              "        vertical-align: top;\n",
              "    }\n",
              "\n",
              "    .dataframe thead th {\n",
              "        text-align: right;\n",
              "    }\n",
              "</style>\n",
              "<table border=\"1\" class=\"dataframe\">\n",
              "  <thead>\n",
              "    <tr style=\"text-align: right;\">\n",
              "      <th></th>\n",
              "      <th>Empresa</th>\n",
              "      <th>Descrição</th>\n",
              "      <th>descricao_port</th>\n",
              "    </tr>\n",
              "  </thead>\n",
              "  <tbody>\n",
              "    <tr>\n",
              "      <th>0</th>\n",
              "      <td>Nubank</td>\n",
              "      <td>About Nubank\\r\\n\\r\\nNubank is the leading fina...</td>\n",
              "      <td>sobre nubank    nubank é a principal empresa d...</td>\n",
              "    </tr>\n",
              "    <tr>\n",
              "      <th>1</th>\n",
              "      <td>Jobzia</td>\n",
              "      <td>Responsibilities\\r\\n\\r\\nAs a Senior Associate,...</td>\n",
              "      <td>responsabilidades    como senior associate, vo...</td>\n",
              "    </tr>\n",
              "    <tr>\n",
              "      <th>2</th>\n",
              "      <td>Samsung</td>\n",
              "      <td>Position\\r\\n\\r\\n\\r\\n\\r\\n1. Contribute to busin...</td>\n",
              "      <td>posição        . contribuir para gestão de neg...</td>\n",
              "    </tr>\n",
              "    <tr>\n",
              "      <th>3</th>\n",
              "      <td>OYO</td>\n",
              "      <td>We’re a growing hospitality chain on a mission...</td>\n",
              "      <td>somos uma cadeia de hospitalidade que crescem ...</td>\n",
              "    </tr>\n",
              "    <tr>\n",
              "      <th>4</th>\n",
              "      <td>Indigo</td>\n",
              "      <td>Indigo improves grower profitability, environm...</td>\n",
              "      <td>indigo melhora a rentabilidade produtor, a sus...</td>\n",
              "    </tr>\n",
              "  </tbody>\n",
              "</table>\n",
              "</div>"
            ],
            "text/plain": [
              "   Empresa  ...                                     descricao_port\n",
              "0   Nubank  ...  sobre nubank    nubank é a principal empresa d...\n",
              "1   Jobzia  ...  responsabilidades    como senior associate, vo...\n",
              "2  Samsung  ...  posição        . contribuir para gestão de neg...\n",
              "3      OYO  ...  somos uma cadeia de hospitalidade que crescem ...\n",
              "4   Indigo  ...  indigo melhora a rentabilidade produtor, a sus...\n",
              "\n",
              "[5 rows x 3 columns]"
            ]
          },
          "metadata": {
            "tags": []
          },
          "execution_count": 16
        }
      ]
    },
    {
      "cell_type": "code",
      "metadata": {
        "id": "FbMR4c7w2LcW",
        "colab_type": "code",
        "outputId": "04ad8a1f-aefd-4f10-a066-c4322402a425",
        "colab": {
          "base_uri": "https://localhost:8080/",
          "height": 204
        }
      },
      "source": [
        "# retira acentuação\n",
        "df['descricao_port'] = df['descricao_port'].str.normalize('NFKD').str.encode('ascii', 'ignore').str.decode('utf-8')\n",
        "df.head()"
      ],
      "execution_count": 0,
      "outputs": [
        {
          "output_type": "execute_result",
          "data": {
            "text/html": [
              "<div>\n",
              "<style scoped>\n",
              "    .dataframe tbody tr th:only-of-type {\n",
              "        vertical-align: middle;\n",
              "    }\n",
              "\n",
              "    .dataframe tbody tr th {\n",
              "        vertical-align: top;\n",
              "    }\n",
              "\n",
              "    .dataframe thead th {\n",
              "        text-align: right;\n",
              "    }\n",
              "</style>\n",
              "<table border=\"1\" class=\"dataframe\">\n",
              "  <thead>\n",
              "    <tr style=\"text-align: right;\">\n",
              "      <th></th>\n",
              "      <th>Empresa</th>\n",
              "      <th>Descrição</th>\n",
              "      <th>descricao_port</th>\n",
              "    </tr>\n",
              "  </thead>\n",
              "  <tbody>\n",
              "    <tr>\n",
              "      <th>0</th>\n",
              "      <td>Nubank</td>\n",
              "      <td>About Nubank\\r\\n\\r\\nNubank is the leading fina...</td>\n",
              "      <td>sobre nubank    nubank e a principal empresa d...</td>\n",
              "    </tr>\n",
              "    <tr>\n",
              "      <th>1</th>\n",
              "      <td>Jobzia</td>\n",
              "      <td>Responsibilities\\r\\n\\r\\nAs a Senior Associate,...</td>\n",
              "      <td>responsabilidades    como senior associate, vo...</td>\n",
              "    </tr>\n",
              "    <tr>\n",
              "      <th>2</th>\n",
              "      <td>Samsung</td>\n",
              "      <td>Position\\r\\n\\r\\n\\r\\n\\r\\n1. Contribute to busin...</td>\n",
              "      <td>posicao        . contribuir para gestao de neg...</td>\n",
              "    </tr>\n",
              "    <tr>\n",
              "      <th>3</th>\n",
              "      <td>OYO</td>\n",
              "      <td>We’re a growing hospitality chain on a mission...</td>\n",
              "      <td>somos uma cadeia de hospitalidade que crescem ...</td>\n",
              "    </tr>\n",
              "    <tr>\n",
              "      <th>4</th>\n",
              "      <td>Indigo</td>\n",
              "      <td>Indigo improves grower profitability, environm...</td>\n",
              "      <td>indigo melhora a rentabilidade produtor, a sus...</td>\n",
              "    </tr>\n",
              "  </tbody>\n",
              "</table>\n",
              "</div>"
            ],
            "text/plain": [
              "   Empresa  ...                                     descricao_port\n",
              "0   Nubank  ...  sobre nubank    nubank e a principal empresa d...\n",
              "1   Jobzia  ...  responsabilidades    como senior associate, vo...\n",
              "2  Samsung  ...  posicao        . contribuir para gestao de neg...\n",
              "3      OYO  ...  somos uma cadeia de hospitalidade que crescem ...\n",
              "4   Indigo  ...  indigo melhora a rentabilidade produtor, a sus...\n",
              "\n",
              "[5 rows x 3 columns]"
            ]
          },
          "metadata": {
            "tags": []
          },
          "execution_count": 18
        }
      ]
    },
    {
      "cell_type": "code",
      "metadata": {
        "id": "3yTkzyvZ2YDJ",
        "colab_type": "code",
        "colab": {}
      },
      "source": [
        "#remoção de pontuação\n",
        "import string\n",
        "\n",
        "translation_table = str.maketrans({key: ' ' for key in string.punctuation}) \n",
        "\n",
        "def remove_punctuation(text):\n",
        "    return text.translate(translation_table)"
      ],
      "execution_count": 0,
      "outputs": []
    },
    {
      "cell_type": "code",
      "metadata": {
        "id": "odGltJ332cnZ",
        "colab_type": "code",
        "outputId": "524bd922-d1ed-4711-8723-bf7bf0db680b",
        "colab": {
          "base_uri": "https://localhost:8080/",
          "height": 204
        }
      },
      "source": [
        "df['descricao_port'] = df['descricao_port'].apply(remove_punctuation)\n",
        "df.head()"
      ],
      "execution_count": 0,
      "outputs": [
        {
          "output_type": "execute_result",
          "data": {
            "text/html": [
              "<div>\n",
              "<style scoped>\n",
              "    .dataframe tbody tr th:only-of-type {\n",
              "        vertical-align: middle;\n",
              "    }\n",
              "\n",
              "    .dataframe tbody tr th {\n",
              "        vertical-align: top;\n",
              "    }\n",
              "\n",
              "    .dataframe thead th {\n",
              "        text-align: right;\n",
              "    }\n",
              "</style>\n",
              "<table border=\"1\" class=\"dataframe\">\n",
              "  <thead>\n",
              "    <tr style=\"text-align: right;\">\n",
              "      <th></th>\n",
              "      <th>Empresa</th>\n",
              "      <th>Descrição</th>\n",
              "      <th>descricao_port</th>\n",
              "    </tr>\n",
              "  </thead>\n",
              "  <tbody>\n",
              "    <tr>\n",
              "      <th>0</th>\n",
              "      <td>Nubank</td>\n",
              "      <td>About Nubank\\r\\n\\r\\nNubank is the leading fina...</td>\n",
              "      <td>sobre nubank    nubank e a principal empresa d...</td>\n",
              "    </tr>\n",
              "    <tr>\n",
              "      <th>1</th>\n",
              "      <td>Jobzia</td>\n",
              "      <td>Responsibilities\\r\\n\\r\\nAs a Senior Associate,...</td>\n",
              "      <td>responsabilidades    como senior associate  vo...</td>\n",
              "    </tr>\n",
              "    <tr>\n",
              "      <th>2</th>\n",
              "      <td>Samsung</td>\n",
              "      <td>Position\\r\\n\\r\\n\\r\\n\\r\\n1. Contribute to busin...</td>\n",
              "      <td>posicao          contribuir para gestao de neg...</td>\n",
              "    </tr>\n",
              "    <tr>\n",
              "      <th>3</th>\n",
              "      <td>OYO</td>\n",
              "      <td>We’re a growing hospitality chain on a mission...</td>\n",
              "      <td>somos uma cadeia de hospitalidade que crescem ...</td>\n",
              "    </tr>\n",
              "    <tr>\n",
              "      <th>4</th>\n",
              "      <td>Indigo</td>\n",
              "      <td>Indigo improves grower profitability, environm...</td>\n",
              "      <td>indigo melhora a rentabilidade produtor  a sus...</td>\n",
              "    </tr>\n",
              "  </tbody>\n",
              "</table>\n",
              "</div>"
            ],
            "text/plain": [
              "   Empresa  ...                                     descricao_port\n",
              "0   Nubank  ...  sobre nubank    nubank e a principal empresa d...\n",
              "1   Jobzia  ...  responsabilidades    como senior associate  vo...\n",
              "2  Samsung  ...  posicao          contribuir para gestao de neg...\n",
              "3      OYO  ...  somos uma cadeia de hospitalidade que crescem ...\n",
              "4   Indigo  ...  indigo melhora a rentabilidade produtor  a sus...\n",
              "\n",
              "[5 rows x 3 columns]"
            ]
          },
          "metadata": {
            "tags": []
          },
          "execution_count": 20
        }
      ]
    },
    {
      "cell_type": "code",
      "metadata": {
        "id": "iHrX1bLp2yLh",
        "colab_type": "code",
        "colab": {}
      },
      "source": [
        "df_normalizada = df[['Empresa','descricao_port']]"
      ],
      "execution_count": 0,
      "outputs": []
    },
    {
      "cell_type": "code",
      "metadata": {
        "id": "aK0SUtlN23Y2",
        "colab_type": "code",
        "colab": {}
      },
      "source": [
        "#exporta a base para importar para o R\n",
        "df_normalizada.to_csv('/content/normalizada_PORT.csv', index=False)"
      ],
      "execution_count": 0,
      "outputs": []
    }
  ]
}